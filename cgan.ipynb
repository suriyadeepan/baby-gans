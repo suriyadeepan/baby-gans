{
 "cells": [
  {
   "cell_type": "markdown",
   "metadata": {
    "deletable": true,
    "editable": true
   },
   "source": [
    "# CONDITIONAL GAN"
   ]
  },
  {
   "cell_type": "markdown",
   "metadata": {
    "deletable": true,
    "editable": true
   },
   "source": [
    "- imports"
   ]
  },
  {
   "cell_type": "code",
   "execution_count": 1,
   "metadata": {
    "collapsed": true,
    "deletable": true,
    "editable": true
   },
   "outputs": [],
   "source": [
    "import tensorflow as tf\n",
    "from tensorflow.contrib.layers import xavier_initializer as xav"
   ]
  },
  {
   "cell_type": "code",
   "execution_count": 2,
   "metadata": {
    "collapsed": true,
    "deletable": true,
    "editable": true
   },
   "outputs": [],
   "source": [
    "import numpy as np"
   ]
  },
  {
   "cell_type": "markdown",
   "metadata": {
    "collapsed": true,
    "deletable": true,
    "editable": true
   },
   "source": [
    "## Graph"
   ]
  },
  {
   "cell_type": "code",
   "execution_count": 9,
   "metadata": {
    "collapsed": true,
    "deletable": true,
    "editable": true
   },
   "outputs": [],
   "source": [
    "# clear graph\n",
    "tf.reset_default_graph()"
   ]
  },
  {
   "cell_type": "markdown",
   "metadata": {
    "collapsed": true,
    "deletable": true,
    "editable": true
   },
   "source": [
    "- Placeholders\n",
    "    - x\\_ : batch of images\n",
    "    - y\\_ : labels of x\\_ as one-hot vectors\n",
    "    - z\\_ : noise (a 100-d vector)"
   ]
  },
  {
   "cell_type": "code",
   "execution_count": 11,
   "metadata": {
    "collapsed": true,
    "deletable": true,
    "editable": true
   },
   "outputs": [],
   "source": [
    "x_ = tf.placeholder(tf.float32, shape=[None, 784], name='x')\n",
    "y_ = tf.placeholder(tf.float32, shape=[None, 10], name='y')\n",
    "z_ = tf.placeholder(tf.float32, shape=[None, 100], name='z')"
   ]
  },
  {
   "cell_type": "markdown",
   "metadata": {
    "deletable": true,
    "editable": true
   },
   "source": [
    "- discriminator params\n",
    "\n",
    "We are gonna concatenate (x,y) and (z,y). We need to adjust the shape of weight matrices to accomodate the change."
   ]
  },
  {
   "cell_type": "code",
   "execution_count": 12,
   "metadata": {
    "collapsed": false,
    "deletable": true,
    "editable": true
   },
   "outputs": [],
   "source": [
    "dw1 = tf.get_variable('dw1', [794, 128], tf.float32, initializer=xav())\n",
    "dw2 = tf.get_variable('dw2', [128, 1], tf.float32, initializer=xav())\n",
    "db1 = tf.get_variable('db1', [128], tf.float32, initializer=tf.constant_initializer(0.))\n",
    "db2 = tf.get_variable('db2', [1], tf.float32, initializer=tf.constant_initializer(0.))"
   ]
  },
  {
   "cell_type": "markdown",
   "metadata": {
    "deletable": true,
    "editable": true
   },
   "source": [
    "- generator params"
   ]
  },
  {
   "cell_type": "code",
   "execution_count": 13,
   "metadata": {
    "collapsed": false,
    "deletable": true,
    "editable": true
   },
   "outputs": [],
   "source": [
    "gw1 = tf.get_variable('gw1', [110, 128], tf.float32, initializer=xav())\n",
    "gw2 = tf.get_variable('gw2', [128, 784], tf.float32, initializer=xav())\n",
    "gb1 = tf.get_variable('gb1', [128], tf.float32, initializer=tf.constant_initializer(0.))\n",
    "gb2 = tf.get_variable('gb2', [784], tf.float32, initializer=tf.constant_initializer(0.))"
   ]
  },
  {
   "cell_type": "markdown",
   "metadata": {
    "deletable": true,
    "editable": true
   },
   "source": [
    "- group params"
   ]
  },
  {
   "cell_type": "code",
   "execution_count": 15,
   "metadata": {
    "collapsed": true,
    "deletable": true,
    "editable": true
   },
   "outputs": [],
   "source": [
    "theta_d, theta_g = [dw1, dw2, db1, db2], [gw1, gw2, gb1, gb2]"
   ]
  },
  {
   "cell_type": "markdown",
   "metadata": {
    "deletable": true,
    "editable": true
   },
   "source": [
    "- build disciminator net"
   ]
  },
  {
   "cell_type": "code",
   "execution_count": 16,
   "metadata": {
    "collapsed": true,
    "deletable": true,
    "editable": true
   },
   "outputs": [],
   "source": [
    "def D(x, y):\n",
    "    xy = tf.concat(values=[x,y], axis=1)\n",
    "    dh1 = tf.nn.relu(tf.matmul(xy, dw1) + db1)\n",
    "    logit = tf.matmul(dh1, dw2) + db2\n",
    "    prob = tf.nn.sigmoid(logit)\n",
    "    \n",
    "    return prob, logit"
   ]
  },
  {
   "cell_type": "markdown",
   "metadata": {
    "deletable": true,
    "editable": true
   },
   "source": [
    "- build generator net"
   ]
  },
  {
   "cell_type": "code",
   "execution_count": 25,
   "metadata": {
    "collapsed": true,
    "deletable": true,
    "editable": true
   },
   "outputs": [],
   "source": [
    "def G(z, y):\n",
    "    zy = tf.concat(values=[z,y], axis=1)\n",
    "    gh1 = tf.nn.relu(tf.matmul(zy, gw1) + gb1)\n",
    "    log_prob = tf.matmul(gh1, gw2) + gb2\n",
    "    prob = tf.nn.sigmoid(log_prob)\n",
    "    \n",
    "    return prob"
   ]
  },
  {
   "cell_type": "markdown",
   "metadata": {
    "deletable": true,
    "editable": true
   },
   "source": [
    "- sample from generator"
   ]
  },
  {
   "cell_type": "code",
   "execution_count": 26,
   "metadata": {
    "collapsed": false,
    "deletable": true,
    "editable": true
   },
   "outputs": [],
   "source": [
    "g_sample = G(z_, y_)"
   ]
  },
  {
   "cell_type": "markdown",
   "metadata": {
    "deletable": true,
    "editable": true
   },
   "source": [
    "- run D on real images"
   ]
  },
  {
   "cell_type": "code",
   "execution_count": 28,
   "metadata": {
    "collapsed": false,
    "deletable": true,
    "editable": true
   },
   "outputs": [],
   "source": [
    "real_prob, real_logit = D(x_, y_)"
   ]
  },
  {
   "cell_type": "markdown",
   "metadata": {
    "deletable": true,
    "editable": true
   },
   "source": [
    "- run D on fake images (sampled from G)"
   ]
  },
  {
   "cell_type": "code",
   "execution_count": 30,
   "metadata": {
    "collapsed": false,
    "deletable": true,
    "editable": true
   },
   "outputs": [],
   "source": [
    "fake_prob, fake_logit = D(g_sample, y_)"
   ]
  },
  {
   "cell_type": "markdown",
   "metadata": {
    "deletable": true,
    "editable": true
   },
   "source": [
    "### Optimization"
   ]
  },
  {
   "cell_type": "markdown",
   "metadata": {
    "deletable": true,
    "editable": true
   },
   "source": [
    "- real loss\n",
    "    - probability ground truth = 1\n",
    "    - predicted probability = real_prob\n",
    "    - loss : cross entropy between ground truth and prediction"
   ]
  },
  {
   "cell_type": "code",
   "execution_count": 31,
   "metadata": {
    "collapsed": true,
    "deletable": true,
    "editable": true
   },
   "outputs": [],
   "source": [
    "d_loss_real = tf.reduce_mean(\n",
    "    tf.nn.sigmoid_cross_entropy_with_logits(logits=real_logit, \n",
    "                                            labels=tf.ones_like(real_logit)))"
   ]
  },
  {
   "cell_type": "markdown",
   "metadata": {
    "deletable": true,
    "editable": true
   },
   "source": [
    "- fake loss\n",
    "    - ground truth = 0\n",
    "    - prediction = fake_prob"
   ]
  },
  {
   "cell_type": "code",
   "execution_count": 32,
   "metadata": {
    "collapsed": true,
    "deletable": true,
    "editable": true
   },
   "outputs": [],
   "source": [
    "d_loss_fake = tf.reduce_mean(\n",
    "    tf.nn.sigmoid_cross_entropy_with_logits(logits=fake_logit,\n",
    "                                            labels=tf.zeros_like(fake_logit)))"
   ]
  },
  {
   "cell_type": "markdown",
   "metadata": {
    "deletable": true,
    "editable": true
   },
   "source": [
    "- discriminator loss, d_loss = real loss + fake loss"
   ]
  },
  {
   "cell_type": "code",
   "execution_count": 33,
   "metadata": {
    "collapsed": true,
    "deletable": true,
    "editable": true
   },
   "outputs": [],
   "source": [
    "d_loss = d_loss_real + d_loss_fake"
   ]
  },
  {
   "cell_type": "markdown",
   "metadata": {
    "deletable": true,
    "editable": true
   },
   "source": [
    "- generator loss\n",
    "    - ground truth = 1 (generated image should be realistic)\n",
    "    - prediction : discriminator's prediction on how real it is "
   ]
  },
  {
   "cell_type": "code",
   "execution_count": 34,
   "metadata": {
    "collapsed": true,
    "deletable": true,
    "editable": true
   },
   "outputs": [],
   "source": [
    "g_loss = tf.reduce_mean(\n",
    "    tf.nn.sigmoid_cross_entropy_with_logits(logits=fake_logit, \n",
    "                                            labels=tf.ones_like(fake_logit)))"
   ]
  },
  {
   "cell_type": "markdown",
   "metadata": {
    "deletable": true,
    "editable": true
   },
   "source": [
    "- training operations"
   ]
  },
  {
   "cell_type": "code",
   "execution_count": 35,
   "metadata": {
    "collapsed": true,
    "deletable": true,
    "editable": true
   },
   "outputs": [],
   "source": [
    "d_train_op = tf.train.AdamOptimizer().minimize(d_loss, var_list=theta_d)\n",
    "g_train_op = tf.train.AdamOptimizer().minimize(g_loss, var_list=theta_g)"
   ]
  },
  {
   "cell_type": "markdown",
   "metadata": {
    "deletable": true,
    "editable": true
   },
   "source": [
    "### MNIST"
   ]
  },
  {
   "cell_type": "code",
   "execution_count": 43,
   "metadata": {
    "collapsed": false,
    "deletable": true,
    "editable": true
   },
   "outputs": [
    {
     "name": "stdout",
     "output_type": "stream",
     "text": [
      "Extracting data/train-images-idx3-ubyte.gz\n",
      "Extracting data/train-labels-idx1-ubyte.gz\n",
      "Extracting data/t10k-images-idx3-ubyte.gz\n",
      "Extracting data/t10k-labels-idx1-ubyte.gz\n"
     ]
    }
   ],
   "source": [
    "from tensorflow.examples.tutorials.mnist import input_data\n",
    "mnist = input_data.read_data_sets('data/', one_hot=True)"
   ]
  },
  {
   "cell_type": "markdown",
   "metadata": {
    "deletable": true,
    "editable": true
   },
   "source": [
    "## Training"
   ]
  },
  {
   "cell_type": "markdown",
   "metadata": {
    "deletable": true,
    "editable": true
   },
   "source": [
    "- sample noise"
   ]
  },
  {
   "cell_type": "code",
   "execution_count": 37,
   "metadata": {
    "collapsed": true,
    "deletable": true,
    "editable": true
   },
   "outputs": [],
   "source": [
    "sample_z = lambda n : np.random.uniform(-1., 1., size=[n, 100])"
   ]
  },
  {
   "cell_type": "markdown",
   "metadata": {},
   "source": [
    "- sample y"
   ]
  },
  {
   "cell_type": "code",
   "execution_count": 53,
   "metadata": {
    "collapsed": true
   },
   "outputs": [],
   "source": [
    "def sample_y(n):\n",
    "    sample_y_ = np.zeros(shape=[16, 10])\n",
    "    sample_y_[:, n] = 1\n",
    "    return sample_y_"
   ]
  },
  {
   "cell_type": "markdown",
   "metadata": {
    "deletable": true,
    "editable": true
   },
   "source": [
    "- plot function"
   ]
  },
  {
   "cell_type": "code",
   "execution_count": 38,
   "metadata": {
    "collapsed": true,
    "deletable": true,
    "editable": true
   },
   "outputs": [],
   "source": [
    "from matplotlib import pyplot as plt\n",
    "import matplotlib.gridspec as gridspec"
   ]
  },
  {
   "cell_type": "code",
   "execution_count": 39,
   "metadata": {
    "collapsed": true,
    "deletable": true,
    "editable": true
   },
   "outputs": [],
   "source": [
    "def plot(samples):\n",
    "    fig = plt.figure(figsize=(4, 4))\n",
    "    gs = gridspec.GridSpec(4, 4)\n",
    "    gs.update(wspace=0.05, hspace=0.05)\n",
    "\n",
    "    for i, sample in enumerate(samples):\n",
    "        ax = plt.subplot(gs[i])\n",
    "        plt.axis('off')\n",
    "        ax.set_xticklabels([])\n",
    "        ax.set_yticklabels([])\n",
    "        ax.set_aspect('equal')\n",
    "        plt.imshow(sample.reshape(28, 28), cmap='Greys_r')\n",
    "\n",
    "    return fig"
   ]
  },
  {
   "cell_type": "code",
   "execution_count": 57,
   "metadata": {
    "collapsed": true,
    "deletable": true,
    "editable": true
   },
   "outputs": [],
   "source": [
    "def save_samples(samples, i, n):\n",
    "    fig = plot(samples)\n",
    "    plt.savefig('out/cgan/{}/{}.png'.format(n, str(i).zfill(3)), bbox_inches='tight')\n",
    "    i += 1\n",
    "    plt.close(fig)"
   ]
  },
  {
   "cell_type": "markdown",
   "metadata": {
    "deletable": true,
    "editable": true
   },
   "source": [
    "- create session"
   ]
  },
  {
   "cell_type": "code",
   "execution_count": 67,
   "metadata": {
    "collapsed": true,
    "deletable": true,
    "editable": true
   },
   "outputs": [],
   "source": [
    "sess = tf.InteractiveSession()\n",
    "sess.run(tf.global_variables_initializer())"
   ]
  },
  {
   "cell_type": "markdown",
   "metadata": {
    "deletable": true,
    "editable": true
   },
   "source": [
    "- begin training loop"
   ]
  },
  {
   "cell_type": "code",
   "execution_count": 69,
   "metadata": {
    "collapsed": false,
    "deletable": true,
    "editable": true
   },
   "outputs": [
    {
     "name": "stdout",
     "output_type": "stream",
     "text": [
      "[80000] D : [0.8616932034492493], G : [1.9244520664215088]\n",
      "[81000] D : [0.7964981198310852], G : [1.8869316577911377]\n",
      "[82000] D : [0.6386680603027344], G : [2.070434093475342]\n",
      "[83000] D : [0.7320753931999207], G : [1.9634184837341309]\n",
      "[84000] D : [0.7591575384140015], G : [1.920872449874878]\n",
      "[85000] D : [0.8043198585510254], G : [1.8156242370605469]\n",
      "[86000] D : [0.7657531499862671], G : [1.8715001344680786]\n",
      "[87000] D : [0.6911740899085999], G : [2.3547914028167725]\n",
      "[88000] D : [0.6986382007598877], G : [2.0119125843048096]\n",
      "[89000] D : [0.7594764232635498], G : [1.798782467842102]\n",
      "[90000] D : [0.7464478015899658], G : [1.9600447416305542]\n",
      "[91000] D : [0.734268069267273], G : [1.782613754272461]\n",
      "[92000] D : [0.6961671710014343], G : [1.7710468769073486]\n",
      "[93000] D : [0.7325962781906128], G : [1.960585355758667]\n",
      "[94000] D : [0.7399799823760986], G : [2.3859081268310547]\n",
      "[95000] D : [0.6773284673690796], G : [1.602203607559204]\n",
      "[96000] D : [0.7625189423561096], G : [1.5817159414291382]\n",
      "[97000] D : [0.8249770402908325], G : [1.6835434436798096]\n",
      "[98000] D : [0.698379635810852], G : [1.9311246871948242]\n",
      "[99000] D : [0.8074957132339478], G : [1.9755778312683105]\n"
     ]
    }
   ],
   "source": [
    "iterations = 80000 + 20000\n",
    "batch_size = 128\n",
    "# conditioned on one_hot(n)\n",
    "n = 2\n",
    "sample_y_ = sample_y(n)\n",
    "for i in range(80000, iterations):\n",
    "    if i%1000 == 0:\n",
    "        samples = sess.run(g_sample, feed_dict= {\n",
    "            z_ : sample_z(16),\n",
    "            y_ : sample_y_\n",
    "        })\n",
    "        # save to file\n",
    "        save_samples(samples, i, n)\n",
    "    \n",
    "    images, labels = mnist.train.next_batch(batch_size)\n",
    "    \n",
    "    _, d_loss_value = sess.run([d_train_op, d_loss], feed_dict={\n",
    "        x_ : images,\n",
    "        y_ : labels,\n",
    "        z_ : sample_z(batch_size)\n",
    "    })\n",
    "    \n",
    "    _, g_loss_value = sess.run([g_train_op, g_loss], feed_dict={\n",
    "        z_ : sample_z(batch_size),\n",
    "        y_ : labels\n",
    "    })\n",
    "    \n",
    "    if i%1000 == 0:\n",
    "        print('[{}] D : [{}], G : [{}]'.\n",
    "             format(i, d_loss_value, g_loss_value))"
   ]
  },
  {
   "cell_type": "markdown",
   "metadata": {
    "deletable": true,
    "editable": true
   },
   "source": [
    "- theme setup"
   ]
  },
  {
   "cell_type": "code",
   "execution_count": 70,
   "metadata": {
    "collapsed": false,
    "deletable": true,
    "editable": true
   },
   "outputs": [
    {
     "data": {
      "text/html": [
       "<style>\n",
       "@import url(http://fonts.googleapis.com/css?family=Lato|Source+Code+Pro|Montserrat:400,700);\n",
       "\n",
       "body {\n",
       "\tfont-family: 'Lato', sans-serif !important;\n",
       "\tfont-size: 1.25em !important;\n",
       "\tline-height: 30px !important;\n",
       "\tfont-weight: 400 !important;\n",
       "\tcolor: #8d8d8d !important;\n",
       "}\n",
       "\n",
       "#notebook-container {\n",
       "\t-webkit-box-shadow: none;\n",
       "\tbox-shadow: none;\n",
       "}\n",
       "\n",
       ".rendered_html h1 { font-size: 4rem !important;  }\n",
       ".rendered_html h2 { font-size: 3rem !important; }\n",
       ".rendered_html h3 { font-size: 2.5rem !important; }\n",
       ".rendered_html h4 { font-size: 2rem !important; }\n",
       ".rendered_html h5 { font-size: 1.5rem !important; }\n",
       ".rendered_html h6 { font-size: 1.5rem !important; }\n",
       "\n",
       ".rendered_html h1, \n",
       ".rendered_html h2, \n",
       ".rendered_html h3, \n",
       ".rendered_html h4,\n",
       ".rendered_html h5, \n",
       ".rendered_html h6 {\n",
       "\tfont-family: 'Montserrat', sans-serif !important;\n",
       "\tfont-weight: 300 !important;\n",
       "\tline-height: 1.5em !important;\n",
       "\tcolor: rgb(221, 153, 51) !important;\n",
       "}\n",
       "\n",
       "h1 { font-size: 4.5rem !important; }\n",
       "h2 { font-size: 4rem !important; }\n",
       "h3 { font-size: 3.5rem !important; }\n",
       "h4 { font-size: 3rem !important; }\n",
       "h5 { font-size: 2.5rem !important; }\n",
       "h6 { font-size: 2rem !important; }\n",
       "\n",
       "h1, h2, h3, h4, h5, h6 {\n",
       "\tfont-family: 'Montserrat', sans-serif !important;\n",
       "\tcolor: #e6ae48 !important;\n",
       "\tline-height: 150px !important;\n",
       "}\n",
       "\n",
       "p {\n",
       "\tfont-family: 'Lato', sans-serif !important;\n",
       "\tfont-size: 1.25em !important;\n",
       "\tline-height: 30px !important;\n",
       "\tfont-weight: 400 !important;\n",
       "\tcolor: #8d8d8d !important;\n",
       "}\n",
       "\n",
       "li {\n",
       "\tfont-family: 'Lato', sans-serif !important;\n",
       "\tfont-size: 1.25em !important;\n",
       "\tline-height: 30px !important;\n",
       "\tfont-weight: 400 !important;\n",
       "\tcolor: #8d8d8d !important;\n",
       "}\n",
       "\n",
       "code {\n",
       "\tfont-family: 'Source Code Pro', sans-serif !important;\n",
       "\tfont-size: 1em !important;\n",
       "}\n",
       "\n",
       "pre {\n",
       "\tfont-family: 'Source Code Pro', sans-serif !important;\n",
       "\tfont-size: 1em !important;\n",
       "}\n",
       "\n",
       "div.input_area {\n",
       "\tborder: none !important;\n",
       "\tbackground: whitesmoke !important;\n",
       "}\n",
       "<style>\n"
      ],
      "text/plain": [
       "<IPython.core.display.HTML object>"
      ]
     },
     "execution_count": 70,
     "metadata": {},
     "output_type": "execute_result"
    }
   ],
   "source": [
    "from IPython.core.display import HTML\n",
    "def css():\n",
    "    style = open(\"css/custom.css\", \"r\").read()\n",
    "    return HTML(style)\n",
    "css()"
   ]
  }
 ],
 "metadata": {
  "kernelspec": {
   "display_name": "Python 3",
   "language": "python",
   "name": "python3"
  },
  "language_info": {
   "codemirror_mode": {
    "name": "ipython",
    "version": 3
   },
   "file_extension": ".py",
   "mimetype": "text/x-python",
   "name": "python",
   "nbconvert_exporter": "python",
   "pygments_lexer": "ipython3",
   "version": "3.5.2"
  }
 },
 "nbformat": 4,
 "nbformat_minor": 2
}
