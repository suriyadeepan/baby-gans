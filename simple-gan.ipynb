{
 "cells": [
  {
   "cell_type": "markdown",
   "metadata": {
    "deletable": true,
    "editable": true
   },
   "source": [
    "# Simple GAN"
   ]
  },
  {
   "cell_type": "markdown",
   "metadata": {},
   "source": [
    "- theme setup"
   ]
  },
  {
   "cell_type": "code",
   "execution_count": 25,
   "metadata": {
    "collapsed": false
   },
   "outputs": [
    {
     "data": {
      "text/html": [
       "<style>\n",
       "@import url(http://fonts.googleapis.com/css?family=Lato|Source+Code+Pro|Montserrat:400,700);\n",
       "\n",
       "body {\n",
       "\tfont-family: 'Lato', sans-serif !important;\n",
       "\tfont-size: 1.25em !important;\n",
       "\tline-height: 30px !important;\n",
       "\tfont-weight: 400 !important;\n",
       "\tcolor: #8d8d8d !important;\n",
       "}\n",
       "\n",
       "#notebook-container {\n",
       "\t-webkit-box-shadow: none;\n",
       "\tbox-shadow: none;\n",
       "}\n",
       "\n",
       ".rendered_html h1 { font-size: 4rem !important;  }\n",
       ".rendered_html h2 { font-size: 3rem !important; }\n",
       ".rendered_html h3 { font-size: 2.5rem !important; }\n",
       ".rendered_html h4 { font-size: 2rem !important; }\n",
       ".rendered_html h5 { font-size: 1.5rem !important; }\n",
       ".rendered_html h6 { font-size: 1.5rem !important; }\n",
       "\n",
       ".rendered_html h1, \n",
       ".rendered_html h2, \n",
       ".rendered_html h3, \n",
       ".rendered_html h4,\n",
       ".rendered_html h5, \n",
       ".rendered_html h6 {\n",
       "\tfont-family: 'Montserrat', sans-serif !important;\n",
       "\tfont-weight: 300 !important;\n",
       "\tline-height: 1.5em !important;\n",
       "\tcolor: rgb(221, 153, 51) !important;\n",
       "}\n",
       "\n",
       "h1 { font-size: 4.5rem !important; }\n",
       "h2 { font-size: 4rem !important; }\n",
       "h3 { font-size: 3.5rem !important; }\n",
       "h4 { font-size: 3rem !important; }\n",
       "h5 { font-size: 2.5rem !important; }\n",
       "h6 { font-size: 2rem !important; }\n",
       "\n",
       "h1, h2, h3, h4, h5, h6 {\n",
       "\tfont-family: 'Montserrat', sans-serif !important;\n",
       "\tcolor: #e6ae48 !important;\n",
       "\tline-height: 150px !important;\n",
       "}\n",
       "\n",
       "p {\n",
       "\tfont-family: 'Lato', sans-serif !important;\n",
       "\tfont-size: 1.25em !important;\n",
       "\tline-height: 30px !important;\n",
       "\tfont-weight: 400 !important;\n",
       "\tcolor: #8d8d8d !important;\n",
       "}\n",
       "\n",
       "li {\n",
       "\tfont-family: 'Lato', sans-serif !important;\n",
       "\tfont-size: 1.25em !important;\n",
       "\tline-height: 30px !important;\n",
       "\tfont-weight: 400 !important;\n",
       "\tcolor: #8d8d8d !important;\n",
       "}\n",
       "\n",
       "code {\n",
       "\tfont-family: 'Source Code Pro', sans-serif !important;\n",
       "\tfont-size: 1em !important;\n",
       "}\n",
       "\n",
       "pre {\n",
       "\tfont-family: 'Source Code Pro', sans-serif !important;\n",
       "\tfont-size: 1em !important;\n",
       "}\n",
       "\n",
       "div.input_area {\n",
       "\tborder: none !important;\n",
       "\tbackground: whitesmoke !important;\n",
       "}\n",
       "<style>\n"
      ],
      "text/plain": [
       "<IPython.core.display.HTML object>"
      ]
     },
     "execution_count": 25,
     "metadata": {},
     "output_type": "execute_result"
    }
   ],
   "source": [
    "from IPython.core.display import HTML\n",
    "def css():\n",
    "    style = open(\"css/custom.css\", \"r\").read()\n",
    "    return HTML(style)\n",
    "css()"
   ]
  },
  {
   "cell_type": "markdown",
   "metadata": {},
   "source": [
    "- imports"
   ]
  },
  {
   "cell_type": "code",
   "execution_count": 1,
   "metadata": {
    "collapsed": true,
    "deletable": true,
    "editable": true
   },
   "outputs": [],
   "source": [
    "import tensorflow as tf\n",
    "from tensorflow.contrib.layers import xavier_initializer as xav"
   ]
  },
  {
   "cell_type": "code",
   "execution_count": 2,
   "metadata": {
    "collapsed": true
   },
   "outputs": [],
   "source": [
    "import numpy as np"
   ]
  },
  {
   "cell_type": "markdown",
   "metadata": {
    "collapsed": true,
    "deletable": true,
    "editable": true
   },
   "source": [
    "## Graph"
   ]
  },
  {
   "cell_type": "code",
   "execution_count": 3,
   "metadata": {
    "collapsed": true
   },
   "outputs": [],
   "source": [
    "# clear graph\n",
    "tf.reset_default_graph()"
   ]
  },
  {
   "cell_type": "markdown",
   "metadata": {
    "collapsed": true,
    "deletable": true,
    "editable": true
   },
   "source": [
    "- Placeholders"
   ]
  },
  {
   "cell_type": "code",
   "execution_count": 4,
   "metadata": {
    "collapsed": true
   },
   "outputs": [],
   "source": [
    "x_ = tf.placeholder(tf.float32, shape=[None, 784], name='x')\n",
    "z_ = tf.placeholder(tf.float32, shape=[None, 100], name='z')"
   ]
  },
  {
   "cell_type": "markdown",
   "metadata": {},
   "source": [
    "- discriminator params"
   ]
  },
  {
   "cell_type": "code",
   "execution_count": 5,
   "metadata": {
    "collapsed": false
   },
   "outputs": [],
   "source": [
    "dw1 = tf.get_variable('dw1', [784, 128], tf.float32, initializer=xav())\n",
    "dw2 = tf.get_variable('dw2', [128, 1], tf.float32, initializer=xav())\n",
    "db1 = tf.get_variable('db1', [128], tf.float32, initializer=tf.constant_initializer(0.))\n",
    "db2 = tf.get_variable('db2', [1], tf.float32, initializer=tf.constant_initializer(0.))"
   ]
  },
  {
   "cell_type": "markdown",
   "metadata": {},
   "source": [
    "- generator params"
   ]
  },
  {
   "cell_type": "code",
   "execution_count": 6,
   "metadata": {
    "collapsed": true
   },
   "outputs": [],
   "source": [
    "gw1 = tf.get_variable('gw1', [100, 128], tf.float32, initializer=xav())\n",
    "gw2 = tf.get_variable('gw2', [128, 784], tf.float32, initializer=xav())\n",
    "gb1 = tf.get_variable('gb1', [128], tf.float32, initializer=tf.constant_initializer(0.))\n",
    "gb2 = tf.get_variable('gb2', [784], tf.float32, initializer=tf.constant_initializer(0.))"
   ]
  },
  {
   "cell_type": "markdown",
   "metadata": {},
   "source": [
    "- group params"
   ]
  },
  {
   "cell_type": "code",
   "execution_count": 7,
   "metadata": {
    "collapsed": true
   },
   "outputs": [],
   "source": [
    "theta_d, theta_g = [dw1, dw2, db1, db2], [gw1, gw2, gb1, gb2]"
   ]
  },
  {
   "cell_type": "markdown",
   "metadata": {},
   "source": [
    "- build disciminator net"
   ]
  },
  {
   "cell_type": "code",
   "execution_count": 8,
   "metadata": {
    "collapsed": true
   },
   "outputs": [],
   "source": [
    "def D(x):\n",
    "    dh1 = tf.nn.relu(tf.matmul(x, dw1) + db1)\n",
    "    logit = tf.matmul(dh1, dw2) + db2\n",
    "    prob = tf.nn.sigmoid(logit)\n",
    "    \n",
    "    return prob, logit"
   ]
  },
  {
   "cell_type": "markdown",
   "metadata": {},
   "source": [
    "- build generator net"
   ]
  },
  {
   "cell_type": "code",
   "execution_count": 9,
   "metadata": {
    "collapsed": true
   },
   "outputs": [],
   "source": [
    "def G(z):\n",
    "    gh1 = tf.nn.relu(tf.matmul(z, gw1) + gb1)\n",
    "    log_prob = tf.matmul(gh1, gw2) + gb2\n",
    "    prob = tf.nn.sigmoid(log_prob)\n",
    "    \n",
    "    return prob"
   ]
  },
  {
   "cell_type": "markdown",
   "metadata": {},
   "source": [
    "- sample from generator"
   ]
  },
  {
   "cell_type": "code",
   "execution_count": 10,
   "metadata": {
    "collapsed": true
   },
   "outputs": [],
   "source": [
    "g_sample = G(z_)"
   ]
  },
  {
   "cell_type": "markdown",
   "metadata": {},
   "source": [
    "- run D on real images"
   ]
  },
  {
   "cell_type": "code",
   "execution_count": 11,
   "metadata": {
    "collapsed": true
   },
   "outputs": [],
   "source": [
    "real_prob, real_logit = D(x_)"
   ]
  },
  {
   "cell_type": "markdown",
   "metadata": {},
   "source": [
    "- run D on fake images (sampled from G)"
   ]
  },
  {
   "cell_type": "code",
   "execution_count": 12,
   "metadata": {
    "collapsed": true
   },
   "outputs": [],
   "source": [
    "fake_prob, fake_logit = D(g_sample)"
   ]
  },
  {
   "cell_type": "markdown",
   "metadata": {},
   "source": [
    "### Optimization"
   ]
  },
  {
   "cell_type": "markdown",
   "metadata": {},
   "source": [
    "- real loss\n",
    "    - probability ground truth = 1\n",
    "    - predicted probability = real_prob\n",
    "    - loss : cross entropy between ground truth and prediction"
   ]
  },
  {
   "cell_type": "code",
   "execution_count": 13,
   "metadata": {
    "collapsed": true
   },
   "outputs": [],
   "source": [
    "d_loss_real = tf.reduce_mean(\n",
    "    tf.nn.sigmoid_cross_entropy_with_logits(logits=real_logit, \n",
    "                                            labels=tf.ones_like(real_logit)))"
   ]
  },
  {
   "cell_type": "markdown",
   "metadata": {},
   "source": [
    "- fake loss\n",
    "    - ground truth = 0\n",
    "    - prediction = fake_prob"
   ]
  },
  {
   "cell_type": "code",
   "execution_count": 14,
   "metadata": {
    "collapsed": true
   },
   "outputs": [],
   "source": [
    "d_loss_fake = tf.reduce_mean(\n",
    "    tf.nn.sigmoid_cross_entropy_with_logits(logits=fake_logit,\n",
    "                                            labels=tf.zeros_like(fake_logit)))"
   ]
  },
  {
   "cell_type": "markdown",
   "metadata": {},
   "source": [
    "- discriminator loss, d_loss = real loss + fake loss"
   ]
  },
  {
   "cell_type": "code",
   "execution_count": 15,
   "metadata": {
    "collapsed": true
   },
   "outputs": [],
   "source": [
    "d_loss = d_loss_real + d_loss_fake"
   ]
  },
  {
   "cell_type": "markdown",
   "metadata": {},
   "source": [
    "- generator loss\n",
    "    - ground truth = 1 (generated image should be realistic)\n",
    "    - prediction : discriminator's prediction on how real it is "
   ]
  },
  {
   "cell_type": "code",
   "execution_count": 16,
   "metadata": {
    "collapsed": true
   },
   "outputs": [],
   "source": [
    "g_loss = tf.reduce_mean(\n",
    "    tf.nn.sigmoid_cross_entropy_with_logits(logits=fake_logit, \n",
    "                                            labels=tf.ones_like(fake_logit)))"
   ]
  },
  {
   "cell_type": "markdown",
   "metadata": {},
   "source": [
    "- training operations"
   ]
  },
  {
   "cell_type": "code",
   "execution_count": 17,
   "metadata": {
    "collapsed": true
   },
   "outputs": [],
   "source": [
    "d_train_op = tf.train.AdamOptimizer().minimize(d_loss, var_list=theta_d)\n",
    "g_train_op = tf.train.AdamOptimizer().minimize(g_loss, var_list=theta_g)"
   ]
  },
  {
   "cell_type": "markdown",
   "metadata": {},
   "source": [
    "### MNIST"
   ]
  },
  {
   "cell_type": "code",
   "execution_count": 18,
   "metadata": {
    "collapsed": false
   },
   "outputs": [
    {
     "name": "stdout",
     "output_type": "stream",
     "text": [
      "Extracting data/train-images-idx3-ubyte.gz\n",
      "Extracting data/train-labels-idx1-ubyte.gz\n",
      "Extracting data/t10k-images-idx3-ubyte.gz\n",
      "Extracting data/t10k-labels-idx1-ubyte.gz\n"
     ]
    }
   ],
   "source": [
    "from tensorflow.examples.tutorials.mnist import input_data\n",
    "mnist = input_data.read_data_sets('data/')"
   ]
  },
  {
   "cell_type": "markdown",
   "metadata": {},
   "source": [
    "## Training"
   ]
  },
  {
   "cell_type": "markdown",
   "metadata": {},
   "source": [
    "- sample noise"
   ]
  },
  {
   "cell_type": "code",
   "execution_count": 19,
   "metadata": {
    "collapsed": true
   },
   "outputs": [],
   "source": [
    "sample_z = lambda n : np.random.uniform(-1., 1., size=[n, 100])"
   ]
  },
  {
   "cell_type": "markdown",
   "metadata": {},
   "source": [
    "- plot function"
   ]
  },
  {
   "cell_type": "code",
   "execution_count": 20,
   "metadata": {
    "collapsed": true
   },
   "outputs": [],
   "source": [
    "from matplotlib import pyplot as plt\n",
    "import matplotlib.gridspec as gridspec"
   ]
  },
  {
   "cell_type": "code",
   "execution_count": 21,
   "metadata": {
    "collapsed": true
   },
   "outputs": [],
   "source": [
    "def plot(samples):\n",
    "    fig = plt.figure(figsize=(4, 4))\n",
    "    gs = gridspec.GridSpec(4, 4)\n",
    "    gs.update(wspace=0.05, hspace=0.05)\n",
    "\n",
    "    for i, sample in enumerate(samples):\n",
    "        ax = plt.subplot(gs[i])\n",
    "        plt.axis('off')\n",
    "        ax.set_xticklabels([])\n",
    "        ax.set_yticklabels([])\n",
    "        ax.set_aspect('equal')\n",
    "        plt.imshow(sample.reshape(28, 28), cmap='Greys_r')\n",
    "\n",
    "    return fig"
   ]
  },
  {
   "cell_type": "code",
   "execution_count": 22,
   "metadata": {
    "collapsed": true
   },
   "outputs": [],
   "source": [
    "def save_samples(samples, i):\n",
    "    fig = plot(samples)\n",
    "    plt.savefig('out/simple-gan/{}.png'.format(str(i).zfill(3)), bbox_inches='tight')\n",
    "    i += 1\n",
    "    plt.close(fig)"
   ]
  },
  {
   "cell_type": "markdown",
   "metadata": {},
   "source": [
    "- create session"
   ]
  },
  {
   "cell_type": "code",
   "execution_count": 23,
   "metadata": {
    "collapsed": true
   },
   "outputs": [],
   "source": [
    "sess = tf.InteractiveSession()\n",
    "sess.run(tf.global_variables_initializer())"
   ]
  },
  {
   "cell_type": "markdown",
   "metadata": {},
   "source": [
    "- begin training loop"
   ]
  },
  {
   "cell_type": "code",
   "execution_count": 24,
   "metadata": {
    "collapsed": false
   },
   "outputs": [
    {
     "name": "stdout",
     "output_type": "stream",
     "text": [
      "at 0 iteration, d_loss : [1.5482125282287598], g_loss : [2.984132766723633]\n",
      "at 1000 iteration, d_loss : [0.00873700249940157], g_loss : [8.086901664733887]\n",
      "at 2000 iteration, d_loss : [0.04252957925200462], g_loss : [5.5967302322387695]\n",
      "at 3000 iteration, d_loss : [0.05793968588113785], g_loss : [5.736297607421875]\n",
      "at 4000 iteration, d_loss : [0.12238318473100662], g_loss : [5.387004852294922]\n",
      "at 5000 iteration, d_loss : [0.22798436880111694], g_loss : [4.826971530914307]\n",
      "at 6000 iteration, d_loss : [0.49156278371810913], g_loss : [4.45762825012207]\n",
      "at 7000 iteration, d_loss : [0.5076054930686951], g_loss : [3.598268508911133]\n",
      "at 8000 iteration, d_loss : [0.5653466582298279], g_loss : [3.3538084030151367]\n",
      "at 9000 iteration, d_loss : [0.450133353471756], g_loss : [3.3437085151672363]\n",
      "at 10000 iteration, d_loss : [0.4747970700263977], g_loss : [3.0847530364990234]\n",
      "at 11000 iteration, d_loss : [0.6612855195999146], g_loss : [2.967733383178711]\n",
      "at 12000 iteration, d_loss : [0.5793889760971069], g_loss : [2.332962989807129]\n",
      "at 13000 iteration, d_loss : [0.5890462398529053], g_loss : [2.72932767868042]\n",
      "at 14000 iteration, d_loss : [0.7582237124443054], g_loss : [2.119946002960205]\n",
      "at 15000 iteration, d_loss : [0.671442985534668], g_loss : [1.8705718517303467]\n",
      "at 16000 iteration, d_loss : [0.6943591833114624], g_loss : [2.054619550704956]\n",
      "at 17000 iteration, d_loss : [0.7970973253250122], g_loss : [2.100741386413574]\n",
      "at 18000 iteration, d_loss : [0.8053056001663208], g_loss : [2.1873695850372314]\n",
      "at 19000 iteration, d_loss : [0.6898313760757446], g_loss : [1.9766333103179932]\n",
      "at 20000 iteration, d_loss : [0.6816979646682739], g_loss : [1.963791847229004]\n",
      "at 21000 iteration, d_loss : [0.7156187295913696], g_loss : [2.4492454528808594]\n",
      "at 22000 iteration, d_loss : [0.7304911613464355], g_loss : [1.7780436277389526]\n",
      "at 23000 iteration, d_loss : [0.8652331829071045], g_loss : [1.5991379022598267]\n",
      "at 24000 iteration, d_loss : [0.9064455628395081], g_loss : [2.1207494735717773]\n",
      "at 25000 iteration, d_loss : [0.8521546125411987], g_loss : [1.9415079355239868]\n",
      "at 26000 iteration, d_loss : [0.5930253267288208], g_loss : [2.262747049331665]\n",
      "at 27000 iteration, d_loss : [0.8483878374099731], g_loss : [2.1858086585998535]\n",
      "at 28000 iteration, d_loss : [0.6916351914405823], g_loss : [2.2572178840637207]\n",
      "at 29000 iteration, d_loss : [0.7662500143051147], g_loss : [2.2190208435058594]\n",
      "at 30000 iteration, d_loss : [0.7179054021835327], g_loss : [2.258817195892334]\n",
      "at 31000 iteration, d_loss : [0.8838446140289307], g_loss : [2.2081522941589355]\n",
      "at 32000 iteration, d_loss : [0.7110823392868042], g_loss : [2.3989739418029785]\n",
      "at 33000 iteration, d_loss : [0.702229380607605], g_loss : [2.390775680541992]\n",
      "at 34000 iteration, d_loss : [0.6541610956192017], g_loss : [2.262025833129883]\n",
      "at 35000 iteration, d_loss : [0.5790186524391174], g_loss : [2.2874655723571777]\n",
      "at 36000 iteration, d_loss : [0.6842838525772095], g_loss : [2.306825876235962]\n",
      "at 37000 iteration, d_loss : [0.681455135345459], g_loss : [2.6125411987304688]\n",
      "at 38000 iteration, d_loss : [0.7112718820571899], g_loss : [2.593428611755371]\n",
      "at 39000 iteration, d_loss : [0.788559079170227], g_loss : [2.3471062183380127]\n",
      "at 40000 iteration, d_loss : [0.6751839518547058], g_loss : [2.3398733139038086]\n",
      "at 41000 iteration, d_loss : [0.648563802242279], g_loss : [2.4429845809936523]\n",
      "at 42000 iteration, d_loss : [0.6886729001998901], g_loss : [2.4662814140319824]\n",
      "at 43000 iteration, d_loss : [0.5638635754585266], g_loss : [1.9999891519546509]\n",
      "at 44000 iteration, d_loss : [0.7549925446510315], g_loss : [2.4093430042266846]\n",
      "at 45000 iteration, d_loss : [0.7696017622947693], g_loss : [2.2269535064697266]\n",
      "at 46000 iteration, d_loss : [0.6490108966827393], g_loss : [2.2422823905944824]\n",
      "at 47000 iteration, d_loss : [0.572006344795227], g_loss : [2.4610025882720947]\n",
      "at 48000 iteration, d_loss : [0.7689916491508484], g_loss : [2.1948537826538086]\n",
      "at 49000 iteration, d_loss : [0.5074869394302368], g_loss : [2.408778190612793]\n",
      "at 50000 iteration, d_loss : [0.600980281829834], g_loss : [2.2128612995147705]\n",
      "at 51000 iteration, d_loss : [0.6838219165802002], g_loss : [2.2383532524108887]\n",
      "at 52000 iteration, d_loss : [0.6518375277519226], g_loss : [1.8805656433105469]\n",
      "at 53000 iteration, d_loss : [0.638846755027771], g_loss : [2.281486749649048]\n",
      "at 54000 iteration, d_loss : [0.6486260890960693], g_loss : [2.263514995574951]\n",
      "at 55000 iteration, d_loss : [0.5737704038619995], g_loss : [2.1193034648895264]\n",
      "at 56000 iteration, d_loss : [0.6378432512283325], g_loss : [1.7982149124145508]\n",
      "at 57000 iteration, d_loss : [0.6400030851364136], g_loss : [2.3240435123443604]\n",
      "at 58000 iteration, d_loss : [0.8641006946563721], g_loss : [2.2364065647125244]\n",
      "at 59000 iteration, d_loss : [0.642421305179596], g_loss : [2.159693479537964]\n",
      "at 60000 iteration, d_loss : [0.6265527009963989], g_loss : [2.3557004928588867]\n",
      "at 61000 iteration, d_loss : [0.6893941164016724], g_loss : [2.273345708847046]\n",
      "at 62000 iteration, d_loss : [0.6557081937789917], g_loss : [2.4068634510040283]\n",
      "at 63000 iteration, d_loss : [0.6484389901161194], g_loss : [2.2880475521087646]\n",
      "at 64000 iteration, d_loss : [0.6816352009773254], g_loss : [2.3972327709198]\n",
      "at 65000 iteration, d_loss : [0.6081976890563965], g_loss : [2.568556308746338]\n",
      "at 66000 iteration, d_loss : [0.5879896283149719], g_loss : [2.0662636756896973]\n",
      "at 67000 iteration, d_loss : [0.6608749628067017], g_loss : [2.518991470336914]\n",
      "at 68000 iteration, d_loss : [0.6990045309066772], g_loss : [2.2506494522094727]\n",
      "at 69000 iteration, d_loss : [0.7428460121154785], g_loss : [2.066960096359253]\n",
      "at 70000 iteration, d_loss : [0.7836483716964722], g_loss : [2.3119688034057617]\n",
      "at 71000 iteration, d_loss : [0.5910746455192566], g_loss : [2.2036027908325195]\n",
      "at 72000 iteration, d_loss : [0.6194117069244385], g_loss : [2.4609732627868652]\n",
      "at 73000 iteration, d_loss : [0.6258997917175293], g_loss : [2.125819683074951]\n",
      "at 74000 iteration, d_loss : [0.6502542495727539], g_loss : [2.204179286956787]\n",
      "at 75000 iteration, d_loss : [0.666619598865509], g_loss : [2.081860303878784]\n",
      "at 76000 iteration, d_loss : [0.6681812405586243], g_loss : [2.4063429832458496]\n",
      "at 77000 iteration, d_loss : [0.6700484752655029], g_loss : [2.3600308895111084]\n",
      "at 78000 iteration, d_loss : [0.5462141036987305], g_loss : [2.064321517944336]\n",
      "at 79000 iteration, d_loss : [0.5850023031234741], g_loss : [2.547264575958252]\n",
      "at 80000 iteration, d_loss : [0.7105692028999329], g_loss : [2.342869997024536]\n",
      "at 81000 iteration, d_loss : [0.5852382183074951], g_loss : [2.4214563369750977]\n",
      "at 82000 iteration, d_loss : [0.45270654559135437], g_loss : [2.202993869781494]\n",
      "at 83000 iteration, d_loss : [0.6130534410476685], g_loss : [2.3416104316711426]\n",
      "at 84000 iteration, d_loss : [0.583591103553772], g_loss : [2.129105567932129]\n",
      "at 85000 iteration, d_loss : [0.5474256277084351], g_loss : [2.639111042022705]\n",
      "at 86000 iteration, d_loss : [0.8094932436943054], g_loss : [2.509373188018799]\n",
      "at 87000 iteration, d_loss : [0.6637977361679077], g_loss : [2.2641091346740723]\n",
      "at 88000 iteration, d_loss : [0.6090894341468811], g_loss : [2.2245213985443115]\n",
      "at 89000 iteration, d_loss : [0.579574465751648], g_loss : [2.2459723949432373]\n",
      "at 90000 iteration, d_loss : [0.6679000854492188], g_loss : [2.08636736869812]\n",
      "at 91000 iteration, d_loss : [0.48462527990341187], g_loss : [2.287424325942993]\n",
      "at 92000 iteration, d_loss : [0.5994150638580322], g_loss : [2.3678815364837646]\n",
      "at 93000 iteration, d_loss : [0.6447852849960327], g_loss : [2.246856689453125]\n",
      "at 94000 iteration, d_loss : [0.5036044120788574], g_loss : [2.6122312545776367]\n",
      "at 95000 iteration, d_loss : [0.6425629258155823], g_loss : [2.513850212097168]\n",
      "at 96000 iteration, d_loss : [0.5262244343757629], g_loss : [2.2773375511169434]\n",
      "at 97000 iteration, d_loss : [0.571832001209259], g_loss : [2.16770339012146]\n",
      "at 98000 iteration, d_loss : [0.5951453447341919], g_loss : [2.7280044555664062]\n",
      "at 99000 iteration, d_loss : [0.5654803514480591], g_loss : [2.5600147247314453]\n",
      "at 100000 iteration, d_loss : [0.5306246280670166], g_loss : [2.497628688812256]\n",
      "at 101000 iteration, d_loss : [0.567409098148346], g_loss : [2.578627586364746]\n",
      "at 102000 iteration, d_loss : [0.678532063961029], g_loss : [2.9829726219177246]\n",
      "at 103000 iteration, d_loss : [0.558203935623169], g_loss : [2.8822593688964844]\n",
      "at 104000 iteration, d_loss : [0.6421958208084106], g_loss : [2.5810494422912598]\n",
      "at 105000 iteration, d_loss : [0.5869390964508057], g_loss : [2.52640438079834]\n",
      "at 106000 iteration, d_loss : [0.43982696533203125], g_loss : [2.684274911880493]\n",
      "at 107000 iteration, d_loss : [0.5152908563613892], g_loss : [2.6495113372802734]\n",
      "at 108000 iteration, d_loss : [0.5288081169128418], g_loss : [2.439533233642578]\n",
      "at 109000 iteration, d_loss : [0.4583849310874939], g_loss : [2.590735912322998]\n",
      "at 110000 iteration, d_loss : [0.45356622338294983], g_loss : [2.2960119247436523]\n",
      "at 111000 iteration, d_loss : [0.5523812174797058], g_loss : [2.29461669921875]\n",
      "at 112000 iteration, d_loss : [0.48022881150245667], g_loss : [2.9047698974609375]\n",
      "at 113000 iteration, d_loss : [0.4617291986942291], g_loss : [2.4561150074005127]\n",
      "at 114000 iteration, d_loss : [0.5566881895065308], g_loss : [2.433406352996826]\n",
      "at 115000 iteration, d_loss : [0.49395644664764404], g_loss : [2.6739697456359863]\n",
      "at 116000 iteration, d_loss : [0.5707791447639465], g_loss : [2.800245523452759]\n",
      "at 117000 iteration, d_loss : [0.5711769461631775], g_loss : [2.944882392883301]\n",
      "at 118000 iteration, d_loss : [0.5784798264503479], g_loss : [2.379122734069824]\n",
      "at 119000 iteration, d_loss : [0.7731385231018066], g_loss : [2.437652587890625]\n",
      "at 120000 iteration, d_loss : [0.49678462743759155], g_loss : [2.2879433631896973]\n",
      "at 121000 iteration, d_loss : [0.542322039604187], g_loss : [2.570896625518799]\n",
      "at 122000 iteration, d_loss : [0.5466435551643372], g_loss : [2.440176248550415]\n",
      "at 123000 iteration, d_loss : [0.5231269598007202], g_loss : [2.663972854614258]\n",
      "at 124000 iteration, d_loss : [0.48016583919525146], g_loss : [2.7800519466400146]\n",
      "at 125000 iteration, d_loss : [0.5736691355705261], g_loss : [2.6895389556884766]\n",
      "at 126000 iteration, d_loss : [0.6101096868515015], g_loss : [2.7918343544006348]\n",
      "at 127000 iteration, d_loss : [0.4341130554676056], g_loss : [2.640329360961914]\n",
      "at 128000 iteration, d_loss : [0.5192837715148926], g_loss : [2.618720531463623]\n",
      "at 129000 iteration, d_loss : [0.44494110345840454], g_loss : [2.8832573890686035]\n",
      "at 130000 iteration, d_loss : [0.4787890315055847], g_loss : [2.55258846282959]\n",
      "at 131000 iteration, d_loss : [0.504214882850647], g_loss : [2.9197275638580322]\n",
      "at 132000 iteration, d_loss : [0.40947672724723816], g_loss : [2.691929340362549]\n",
      "at 133000 iteration, d_loss : [0.45888030529022217], g_loss : [2.955686569213867]\n",
      "at 134000 iteration, d_loss : [0.585408627986908], g_loss : [2.6439759731292725]\n",
      "at 135000 iteration, d_loss : [0.4643752872943878], g_loss : [3.034263849258423]\n",
      "at 136000 iteration, d_loss : [0.48637017607688904], g_loss : [2.3359220027923584]\n",
      "at 137000 iteration, d_loss : [0.4793946146965027], g_loss : [2.9404072761535645]\n",
      "at 138000 iteration, d_loss : [0.48934224247932434], g_loss : [3.21166729927063]\n",
      "at 139000 iteration, d_loss : [0.4585070013999939], g_loss : [3.0070176124572754]\n",
      "at 140000 iteration, d_loss : [0.4018702507019043], g_loss : [2.686800003051758]\n",
      "at 141000 iteration, d_loss : [0.6044211387634277], g_loss : [2.3876452445983887]\n",
      "at 142000 iteration, d_loss : [0.5054367780685425], g_loss : [2.8344006538391113]\n",
      "at 143000 iteration, d_loss : [0.5580987930297852], g_loss : [2.4318528175354004]\n",
      "at 144000 iteration, d_loss : [0.43948352336883545], g_loss : [2.8895535469055176]\n",
      "at 145000 iteration, d_loss : [0.49788179993629456], g_loss : [2.45003080368042]\n",
      "at 146000 iteration, d_loss : [0.47129952907562256], g_loss : [2.5622382164001465]\n",
      "at 147000 iteration, d_loss : [0.3767230808734894], g_loss : [2.5963523387908936]\n",
      "at 148000 iteration, d_loss : [0.3400014638900757], g_loss : [2.795539379119873]\n",
      "at 149000 iteration, d_loss : [0.6056126356124878], g_loss : [2.470979690551758]\n",
      "at 150000 iteration, d_loss : [0.5632948875427246], g_loss : [2.671322822570801]\n",
      "at 151000 iteration, d_loss : [0.48153799772262573], g_loss : [2.8178868293762207]\n",
      "at 152000 iteration, d_loss : [0.5656481385231018], g_loss : [2.68892765045166]\n",
      "at 153000 iteration, d_loss : [0.4653152823448181], g_loss : [2.9845826625823975]\n",
      "at 154000 iteration, d_loss : [0.44794121384620667], g_loss : [2.254997968673706]\n",
      "at 155000 iteration, d_loss : [0.529681384563446], g_loss : [3.0629630088806152]\n",
      "at 156000 iteration, d_loss : [0.502214252948761], g_loss : [2.733610153198242]\n",
      "at 157000 iteration, d_loss : [0.4203043580055237], g_loss : [2.6885266304016113]\n",
      "at 158000 iteration, d_loss : [0.48747456073760986], g_loss : [2.7448301315307617]\n",
      "at 159000 iteration, d_loss : [0.36885693669319153], g_loss : [2.457047462463379]\n",
      "at 160000 iteration, d_loss : [0.389814555644989], g_loss : [3.6556808948516846]\n",
      "at 161000 iteration, d_loss : [0.3866373896598816], g_loss : [2.881502628326416]\n",
      "at 162000 iteration, d_loss : [0.4485403299331665], g_loss : [2.7158541679382324]\n",
      "at 163000 iteration, d_loss : [0.4100691080093384], g_loss : [2.818211317062378]\n",
      "at 164000 iteration, d_loss : [0.48362410068511963], g_loss : [2.7459161281585693]\n",
      "at 165000 iteration, d_loss : [0.3551092743873596], g_loss : [3.0395565032958984]\n",
      "at 166000 iteration, d_loss : [0.4255301356315613], g_loss : [2.853368043899536]\n",
      "at 167000 iteration, d_loss : [0.42820051312446594], g_loss : [2.570178985595703]\n",
      "at 168000 iteration, d_loss : [0.516185998916626], g_loss : [2.7913923263549805]\n",
      "at 169000 iteration, d_loss : [0.40999794006347656], g_loss : [2.9562935829162598]\n",
      "at 170000 iteration, d_loss : [0.5289361476898193], g_loss : [2.4153144359588623]\n",
      "at 171000 iteration, d_loss : [0.4972377419471741], g_loss : [2.8791544437408447]\n",
      "at 172000 iteration, d_loss : [0.49366891384124756], g_loss : [3.0201196670532227]\n",
      "at 173000 iteration, d_loss : [0.3885376453399658], g_loss : [3.0461554527282715]\n",
      "at 174000 iteration, d_loss : [0.5172123908996582], g_loss : [2.703537940979004]\n",
      "at 175000 iteration, d_loss : [0.4892324209213257], g_loss : [2.7337899208068848]\n",
      "at 176000 iteration, d_loss : [0.4587533473968506], g_loss : [2.850261926651001]\n",
      "at 177000 iteration, d_loss : [0.5054727792739868], g_loss : [3.243975877761841]\n",
      "at 178000 iteration, d_loss : [0.3431932330131531], g_loss : [3.060964822769165]\n",
      "at 179000 iteration, d_loss : [0.3884112238883972], g_loss : [2.9999794960021973]\n",
      "at 180000 iteration, d_loss : [0.4802745580673218], g_loss : [2.7692761421203613]\n",
      "at 181000 iteration, d_loss : [0.4540231227874756], g_loss : [3.0891213417053223]\n",
      "at 182000 iteration, d_loss : [0.3955051898956299], g_loss : [2.8433597087860107]\n",
      "at 183000 iteration, d_loss : [0.4635123014450073], g_loss : [2.759972095489502]\n",
      "at 184000 iteration, d_loss : [0.4189227819442749], g_loss : [3.064509391784668]\n",
      "at 185000 iteration, d_loss : [0.3379959464073181], g_loss : [3.0333919525146484]\n",
      "at 186000 iteration, d_loss : [0.47988641262054443], g_loss : [2.7418205738067627]\n",
      "at 187000 iteration, d_loss : [0.43500882387161255], g_loss : [3.0038938522338867]\n",
      "at 188000 iteration, d_loss : [0.49568599462509155], g_loss : [2.672724723815918]\n",
      "at 189000 iteration, d_loss : [0.43797266483306885], g_loss : [2.6515674591064453]\n",
      "at 190000 iteration, d_loss : [0.44977426528930664], g_loss : [2.8977699279785156]\n",
      "at 191000 iteration, d_loss : [0.410554438829422], g_loss : [3.1603341102600098]\n",
      "at 192000 iteration, d_loss : [0.34426257014274597], g_loss : [2.497955322265625]\n",
      "at 193000 iteration, d_loss : [0.4059034585952759], g_loss : [2.8766376972198486]\n",
      "at 194000 iteration, d_loss : [0.36236894130706787], g_loss : [2.9060089588165283]\n",
      "at 195000 iteration, d_loss : [0.4556099474430084], g_loss : [2.7225890159606934]\n",
      "at 196000 iteration, d_loss : [0.36953163146972656], g_loss : [2.988546371459961]\n",
      "at 197000 iteration, d_loss : [0.432516485452652], g_loss : [2.969088077545166]\n",
      "at 198000 iteration, d_loss : [0.360561728477478], g_loss : [2.7203381061553955]\n",
      "at 199000 iteration, d_loss : [0.3641590476036072], g_loss : [2.9102840423583984]\n",
      "at 200000 iteration, d_loss : [0.4404359459877014], g_loss : [3.090475082397461]\n",
      "at 201000 iteration, d_loss : [0.4522946774959564], g_loss : [3.0142626762390137]\n",
      "at 202000 iteration, d_loss : [0.40908777713775635], g_loss : [2.645030975341797]\n",
      "at 203000 iteration, d_loss : [0.38592976331710815], g_loss : [2.9849605560302734]\n",
      "at 204000 iteration, d_loss : [0.28928035497665405], g_loss : [2.937023162841797]\n",
      "at 205000 iteration, d_loss : [0.5265620350837708], g_loss : [2.787379741668701]\n",
      "at 206000 iteration, d_loss : [0.3866487741470337], g_loss : [2.768239974975586]\n",
      "at 207000 iteration, d_loss : [0.40569210052490234], g_loss : [2.754425048828125]\n",
      "at 208000 iteration, d_loss : [0.43627485632896423], g_loss : [2.7834086418151855]\n",
      "at 209000 iteration, d_loss : [0.6397119164466858], g_loss : [3.1366329193115234]\n",
      "at 210000 iteration, d_loss : [0.43377816677093506], g_loss : [3.174408435821533]\n",
      "at 211000 iteration, d_loss : [0.47009560465812683], g_loss : [2.906827926635742]\n",
      "at 212000 iteration, d_loss : [0.4870356619358063], g_loss : [2.712826728820801]\n",
      "at 213000 iteration, d_loss : [0.44841426610946655], g_loss : [3.3942556381225586]\n",
      "at 214000 iteration, d_loss : [0.5484051704406738], g_loss : [2.6017141342163086]\n",
      "at 215000 iteration, d_loss : [0.4075462222099304], g_loss : [2.8923072814941406]\n",
      "at 216000 iteration, d_loss : [0.4101106524467468], g_loss : [2.9444127082824707]\n",
      "at 217000 iteration, d_loss : [0.4069554805755615], g_loss : [2.7767744064331055]\n",
      "at 218000 iteration, d_loss : [0.41843366622924805], g_loss : [3.2909345626831055]\n",
      "at 219000 iteration, d_loss : [0.4198707044124603], g_loss : [3.2049412727355957]\n",
      "at 220000 iteration, d_loss : [0.41862624883651733], g_loss : [3.424288034439087]\n",
      "at 221000 iteration, d_loss : [0.38720637559890747], g_loss : [2.5845108032226562]\n",
      "at 222000 iteration, d_loss : [1.541525959968567], g_loss : [3.376777410507202]\n",
      "at 223000 iteration, d_loss : [0.5244232416152954], g_loss : [2.335458755493164]\n",
      "at 224000 iteration, d_loss : [0.41388800740242004], g_loss : [2.367697238922119]\n",
      "at 225000 iteration, d_loss : [0.4824123978614807], g_loss : [2.8576018810272217]\n",
      "at 226000 iteration, d_loss : [0.47932007908821106], g_loss : [2.5776896476745605]\n",
      "at 227000 iteration, d_loss : [0.38057568669319153], g_loss : [2.4812307357788086]\n",
      "at 228000 iteration, d_loss : [0.4158812165260315], g_loss : [2.615151882171631]\n",
      "at 229000 iteration, d_loss : [0.4971386194229126], g_loss : [2.5183684825897217]\n",
      "at 230000 iteration, d_loss : [0.40791696310043335], g_loss : [2.416210174560547]\n",
      "at 231000 iteration, d_loss : [0.4062630832195282], g_loss : [2.69340181350708]\n"
     ]
    },
    {
     "ename": "KeyboardInterrupt",
     "evalue": "",
     "output_type": "error",
     "traceback": [
      "\u001b[0;31m---------------------------------------------------------------------------\u001b[0m",
      "\u001b[0;31mKeyboardInterrupt\u001b[0m                         Traceback (most recent call last)",
      "\u001b[0;32m<ipython-input-24-18f7c6d8f9ba>\u001b[0m in \u001b[0;36m<module>\u001b[0;34m()\u001b[0m\n\u001b[1;32m      7\u001b[0m         })\n\u001b[1;32m      8\u001b[0m         \u001b[0;31m# save to file\u001b[0m\u001b[0;34m\u001b[0m\u001b[0;34m\u001b[0m\u001b[0m\n\u001b[0;32m----> 9\u001b[0;31m         \u001b[0msave_samples\u001b[0m\u001b[0;34m(\u001b[0m\u001b[0msamples\u001b[0m\u001b[0;34m,\u001b[0m \u001b[0mi\u001b[0m\u001b[0;34m)\u001b[0m\u001b[0;34m\u001b[0m\u001b[0m\n\u001b[0m\u001b[1;32m     10\u001b[0m \u001b[0;34m\u001b[0m\u001b[0m\n\u001b[1;32m     11\u001b[0m     \u001b[0mimages\u001b[0m\u001b[0;34m,\u001b[0m \u001b[0m_\u001b[0m \u001b[0;34m=\u001b[0m \u001b[0mmnist\u001b[0m\u001b[0;34m.\u001b[0m\u001b[0mtrain\u001b[0m\u001b[0;34m.\u001b[0m\u001b[0mnext_batch\u001b[0m\u001b[0;34m(\u001b[0m\u001b[0mbatch_size\u001b[0m\u001b[0;34m)\u001b[0m\u001b[0;34m\u001b[0m\u001b[0m\n",
      "\u001b[0;32m<ipython-input-22-22108b7f5d72>\u001b[0m in \u001b[0;36msave_samples\u001b[0;34m(samples, i)\u001b[0m\n\u001b[1;32m      1\u001b[0m \u001b[0;32mdef\u001b[0m \u001b[0msave_samples\u001b[0m\u001b[0;34m(\u001b[0m\u001b[0msamples\u001b[0m\u001b[0;34m,\u001b[0m \u001b[0mi\u001b[0m\u001b[0;34m)\u001b[0m\u001b[0;34m:\u001b[0m\u001b[0;34m\u001b[0m\u001b[0m\n\u001b[0;32m----> 2\u001b[0;31m     \u001b[0mfig\u001b[0m \u001b[0;34m=\u001b[0m \u001b[0mplot\u001b[0m\u001b[0;34m(\u001b[0m\u001b[0msamples\u001b[0m\u001b[0;34m)\u001b[0m\u001b[0;34m\u001b[0m\u001b[0m\n\u001b[0m\u001b[1;32m      3\u001b[0m     \u001b[0mplt\u001b[0m\u001b[0;34m.\u001b[0m\u001b[0msavefig\u001b[0m\u001b[0;34m(\u001b[0m\u001b[0;34m'out/simple-gan/{}.png'\u001b[0m\u001b[0;34m.\u001b[0m\u001b[0mformat\u001b[0m\u001b[0;34m(\u001b[0m\u001b[0mstr\u001b[0m\u001b[0;34m(\u001b[0m\u001b[0mi\u001b[0m\u001b[0;34m)\u001b[0m\u001b[0;34m.\u001b[0m\u001b[0mzfill\u001b[0m\u001b[0;34m(\u001b[0m\u001b[0;36m3\u001b[0m\u001b[0;34m)\u001b[0m\u001b[0;34m)\u001b[0m\u001b[0;34m,\u001b[0m \u001b[0mbbox_inches\u001b[0m\u001b[0;34m=\u001b[0m\u001b[0;34m'tight'\u001b[0m\u001b[0;34m)\u001b[0m\u001b[0;34m\u001b[0m\u001b[0m\n\u001b[1;32m      4\u001b[0m     \u001b[0mi\u001b[0m \u001b[0;34m+=\u001b[0m \u001b[0;36m1\u001b[0m\u001b[0;34m\u001b[0m\u001b[0m\n\u001b[1;32m      5\u001b[0m     \u001b[0mplt\u001b[0m\u001b[0;34m.\u001b[0m\u001b[0mclose\u001b[0m\u001b[0;34m(\u001b[0m\u001b[0mfig\u001b[0m\u001b[0;34m)\u001b[0m\u001b[0;34m\u001b[0m\u001b[0m\n",
      "\u001b[0;32m<ipython-input-21-9757cad53a97>\u001b[0m in \u001b[0;36mplot\u001b[0;34m(samples)\u001b[0m\n\u001b[1;32m      5\u001b[0m \u001b[0;34m\u001b[0m\u001b[0m\n\u001b[1;32m      6\u001b[0m     \u001b[0;32mfor\u001b[0m \u001b[0mi\u001b[0m\u001b[0;34m,\u001b[0m \u001b[0msample\u001b[0m \u001b[0;32min\u001b[0m \u001b[0menumerate\u001b[0m\u001b[0;34m(\u001b[0m\u001b[0msamples\u001b[0m\u001b[0;34m)\u001b[0m\u001b[0;34m:\u001b[0m\u001b[0;34m\u001b[0m\u001b[0m\n\u001b[0;32m----> 7\u001b[0;31m         \u001b[0max\u001b[0m \u001b[0;34m=\u001b[0m \u001b[0mplt\u001b[0m\u001b[0;34m.\u001b[0m\u001b[0msubplot\u001b[0m\u001b[0;34m(\u001b[0m\u001b[0mgs\u001b[0m\u001b[0;34m[\u001b[0m\u001b[0mi\u001b[0m\u001b[0;34m]\u001b[0m\u001b[0;34m)\u001b[0m\u001b[0;34m\u001b[0m\u001b[0m\n\u001b[0m\u001b[1;32m      8\u001b[0m         \u001b[0mplt\u001b[0m\u001b[0;34m.\u001b[0m\u001b[0maxis\u001b[0m\u001b[0;34m(\u001b[0m\u001b[0;34m'off'\u001b[0m\u001b[0;34m)\u001b[0m\u001b[0;34m\u001b[0m\u001b[0m\n\u001b[1;32m      9\u001b[0m         \u001b[0max\u001b[0m\u001b[0;34m.\u001b[0m\u001b[0mset_xticklabels\u001b[0m\u001b[0;34m(\u001b[0m\u001b[0;34m[\u001b[0m\u001b[0;34m]\u001b[0m\u001b[0;34m)\u001b[0m\u001b[0;34m\u001b[0m\u001b[0m\n",
      "\u001b[0;32m/usr/local/lib/python3.5/dist-packages/matplotlib/pyplot.py\u001b[0m in \u001b[0;36msubplot\u001b[0;34m(*args, **kwargs)\u001b[0m\n\u001b[1;32m   1042\u001b[0m \u001b[0;34m\u001b[0m\u001b[0m\n\u001b[1;32m   1043\u001b[0m     \u001b[0mfig\u001b[0m \u001b[0;34m=\u001b[0m \u001b[0mgcf\u001b[0m\u001b[0;34m(\u001b[0m\u001b[0;34m)\u001b[0m\u001b[0;34m\u001b[0m\u001b[0m\n\u001b[0;32m-> 1044\u001b[0;31m     \u001b[0ma\u001b[0m \u001b[0;34m=\u001b[0m \u001b[0mfig\u001b[0m\u001b[0;34m.\u001b[0m\u001b[0madd_subplot\u001b[0m\u001b[0;34m(\u001b[0m\u001b[0;34m*\u001b[0m\u001b[0margs\u001b[0m\u001b[0;34m,\u001b[0m \u001b[0;34m**\u001b[0m\u001b[0mkwargs\u001b[0m\u001b[0;34m)\u001b[0m\u001b[0;34m\u001b[0m\u001b[0m\n\u001b[0m\u001b[1;32m   1045\u001b[0m     \u001b[0mbbox\u001b[0m \u001b[0;34m=\u001b[0m \u001b[0ma\u001b[0m\u001b[0;34m.\u001b[0m\u001b[0mbbox\u001b[0m\u001b[0;34m\u001b[0m\u001b[0m\n\u001b[1;32m   1046\u001b[0m     \u001b[0mbyebye\u001b[0m \u001b[0;34m=\u001b[0m \u001b[0;34m[\u001b[0m\u001b[0;34m]\u001b[0m\u001b[0;34m\u001b[0m\u001b[0m\n",
      "\u001b[0;32m/usr/local/lib/python3.5/dist-packages/matplotlib/figure.py\u001b[0m in \u001b[0;36madd_subplot\u001b[0;34m(self, *args, **kwargs)\u001b[0m\n\u001b[1;32m   1018\u001b[0m                     \u001b[0mself\u001b[0m\u001b[0;34m.\u001b[0m\u001b[0m_axstack\u001b[0m\u001b[0;34m.\u001b[0m\u001b[0mremove\u001b[0m\u001b[0;34m(\u001b[0m\u001b[0max\u001b[0m\u001b[0;34m)\u001b[0m\u001b[0;34m\u001b[0m\u001b[0m\n\u001b[1;32m   1019\u001b[0m \u001b[0;34m\u001b[0m\u001b[0m\n\u001b[0;32m-> 1020\u001b[0;31m             \u001b[0ma\u001b[0m \u001b[0;34m=\u001b[0m \u001b[0msubplot_class_factory\u001b[0m\u001b[0;34m(\u001b[0m\u001b[0mprojection_class\u001b[0m\u001b[0;34m)\u001b[0m\u001b[0;34m(\u001b[0m\u001b[0mself\u001b[0m\u001b[0;34m,\u001b[0m \u001b[0;34m*\u001b[0m\u001b[0margs\u001b[0m\u001b[0;34m,\u001b[0m \u001b[0;34m**\u001b[0m\u001b[0mkwargs\u001b[0m\u001b[0;34m)\u001b[0m\u001b[0;34m\u001b[0m\u001b[0m\n\u001b[0m\u001b[1;32m   1021\u001b[0m \u001b[0;34m\u001b[0m\u001b[0m\n\u001b[1;32m   1022\u001b[0m         \u001b[0mself\u001b[0m\u001b[0;34m.\u001b[0m\u001b[0m_axstack\u001b[0m\u001b[0;34m.\u001b[0m\u001b[0madd\u001b[0m\u001b[0;34m(\u001b[0m\u001b[0mkey\u001b[0m\u001b[0;34m,\u001b[0m \u001b[0ma\u001b[0m\u001b[0;34m)\u001b[0m\u001b[0;34m\u001b[0m\u001b[0m\n",
      "\u001b[0;32m/usr/local/lib/python3.5/dist-packages/matplotlib/axes/_subplots.py\u001b[0m in \u001b[0;36m__init__\u001b[0;34m(self, fig, *args, **kwargs)\u001b[0m\n\u001b[1;32m     71\u001b[0m \u001b[0;34m\u001b[0m\u001b[0m\n\u001b[1;32m     72\u001b[0m         \u001b[0;31m# _axes_class is set in the subplot_class_factory\u001b[0m\u001b[0;34m\u001b[0m\u001b[0;34m\u001b[0m\u001b[0m\n\u001b[0;32m---> 73\u001b[0;31m         \u001b[0mself\u001b[0m\u001b[0;34m.\u001b[0m\u001b[0m_axes_class\u001b[0m\u001b[0;34m.\u001b[0m\u001b[0m__init__\u001b[0m\u001b[0;34m(\u001b[0m\u001b[0mself\u001b[0m\u001b[0;34m,\u001b[0m \u001b[0mfig\u001b[0m\u001b[0;34m,\u001b[0m \u001b[0mself\u001b[0m\u001b[0;34m.\u001b[0m\u001b[0mfigbox\u001b[0m\u001b[0;34m,\u001b[0m \u001b[0;34m**\u001b[0m\u001b[0mkwargs\u001b[0m\u001b[0;34m)\u001b[0m\u001b[0;34m\u001b[0m\u001b[0m\n\u001b[0m\u001b[1;32m     74\u001b[0m \u001b[0;34m\u001b[0m\u001b[0m\n\u001b[1;32m     75\u001b[0m     \u001b[0;32mdef\u001b[0m \u001b[0m__reduce__\u001b[0m\u001b[0;34m(\u001b[0m\u001b[0mself\u001b[0m\u001b[0;34m)\u001b[0m\u001b[0;34m:\u001b[0m\u001b[0;34m\u001b[0m\u001b[0m\n",
      "\u001b[0;32m/usr/local/lib/python3.5/dist-packages/matplotlib/axes/_base.py\u001b[0m in \u001b[0;36m__init__\u001b[0;34m(self, fig, rect, facecolor, frameon, sharex, sharey, label, xscale, yscale, axisbg, **kwargs)\u001b[0m\n\u001b[1;32m    527\u001b[0m \u001b[0;34m\u001b[0m\u001b[0m\n\u001b[1;32m    528\u001b[0m         \u001b[0;31m# this call may differ for non-sep axes, e.g., polar\u001b[0m\u001b[0;34m\u001b[0m\u001b[0;34m\u001b[0m\u001b[0m\n\u001b[0;32m--> 529\u001b[0;31m         \u001b[0mself\u001b[0m\u001b[0;34m.\u001b[0m\u001b[0m_init_axis\u001b[0m\u001b[0;34m(\u001b[0m\u001b[0;34m)\u001b[0m\u001b[0;34m\u001b[0m\u001b[0m\n\u001b[0m\u001b[1;32m    530\u001b[0m         \u001b[0;32mif\u001b[0m \u001b[0maxisbg\u001b[0m \u001b[0;32mis\u001b[0m \u001b[0;32mnot\u001b[0m \u001b[0;32mNone\u001b[0m \u001b[0;32mand\u001b[0m \u001b[0mfacecolor\u001b[0m \u001b[0;32mis\u001b[0m \u001b[0;32mnot\u001b[0m \u001b[0;32mNone\u001b[0m\u001b[0;34m:\u001b[0m\u001b[0;34m\u001b[0m\u001b[0m\n\u001b[1;32m    531\u001b[0m             raise TypeError('Both axisbg and facecolor are not None. '\n",
      "\u001b[0;32m/usr/local/lib/python3.5/dist-packages/matplotlib/axes/_base.py\u001b[0m in \u001b[0;36m_init_axis\u001b[0;34m(self)\u001b[0m\n\u001b[1;32m    621\u001b[0m         \u001b[0;34m\"move this out of __init__ because non-separable axes don't use it\"\u001b[0m\u001b[0;34m\u001b[0m\u001b[0m\n\u001b[1;32m    622\u001b[0m         \u001b[0mself\u001b[0m\u001b[0;34m.\u001b[0m\u001b[0mxaxis\u001b[0m \u001b[0;34m=\u001b[0m \u001b[0mmaxis\u001b[0m\u001b[0;34m.\u001b[0m\u001b[0mXAxis\u001b[0m\u001b[0;34m(\u001b[0m\u001b[0mself\u001b[0m\u001b[0;34m)\u001b[0m\u001b[0;34m\u001b[0m\u001b[0m\n\u001b[0;32m--> 623\u001b[0;31m         \u001b[0mself\u001b[0m\u001b[0;34m.\u001b[0m\u001b[0mspines\u001b[0m\u001b[0;34m[\u001b[0m\u001b[0;34m'bottom'\u001b[0m\u001b[0;34m]\u001b[0m\u001b[0;34m.\u001b[0m\u001b[0mregister_axis\u001b[0m\u001b[0;34m(\u001b[0m\u001b[0mself\u001b[0m\u001b[0;34m.\u001b[0m\u001b[0mxaxis\u001b[0m\u001b[0;34m)\u001b[0m\u001b[0;34m\u001b[0m\u001b[0m\n\u001b[0m\u001b[1;32m    624\u001b[0m         \u001b[0mself\u001b[0m\u001b[0;34m.\u001b[0m\u001b[0mspines\u001b[0m\u001b[0;34m[\u001b[0m\u001b[0;34m'top'\u001b[0m\u001b[0;34m]\u001b[0m\u001b[0;34m.\u001b[0m\u001b[0mregister_axis\u001b[0m\u001b[0;34m(\u001b[0m\u001b[0mself\u001b[0m\u001b[0;34m.\u001b[0m\u001b[0mxaxis\u001b[0m\u001b[0;34m)\u001b[0m\u001b[0;34m\u001b[0m\u001b[0m\n\u001b[1;32m    625\u001b[0m         \u001b[0mself\u001b[0m\u001b[0;34m.\u001b[0m\u001b[0myaxis\u001b[0m \u001b[0;34m=\u001b[0m \u001b[0mmaxis\u001b[0m\u001b[0;34m.\u001b[0m\u001b[0mYAxis\u001b[0m\u001b[0;34m(\u001b[0m\u001b[0mself\u001b[0m\u001b[0;34m)\u001b[0m\u001b[0;34m\u001b[0m\u001b[0m\n",
      "\u001b[0;32m/usr/local/lib/python3.5/dist-packages/matplotlib/spines.py\u001b[0m in \u001b[0;36mregister_axis\u001b[0;34m(self, axis)\u001b[0m\n\u001b[1;32m    161\u001b[0m         \u001b[0mself\u001b[0m\u001b[0;34m.\u001b[0m\u001b[0maxis\u001b[0m \u001b[0;34m=\u001b[0m \u001b[0maxis\u001b[0m\u001b[0;34m\u001b[0m\u001b[0m\n\u001b[1;32m    162\u001b[0m         \u001b[0;32mif\u001b[0m \u001b[0mself\u001b[0m\u001b[0;34m.\u001b[0m\u001b[0maxis\u001b[0m \u001b[0;32mis\u001b[0m \u001b[0;32mnot\u001b[0m \u001b[0;32mNone\u001b[0m\u001b[0;34m:\u001b[0m\u001b[0;34m\u001b[0m\u001b[0m\n\u001b[0;32m--> 163\u001b[0;31m             \u001b[0mself\u001b[0m\u001b[0;34m.\u001b[0m\u001b[0maxis\u001b[0m\u001b[0;34m.\u001b[0m\u001b[0mcla\u001b[0m\u001b[0;34m(\u001b[0m\u001b[0;34m)\u001b[0m\u001b[0;34m\u001b[0m\u001b[0m\n\u001b[0m\u001b[1;32m    164\u001b[0m         \u001b[0mself\u001b[0m\u001b[0;34m.\u001b[0m\u001b[0mstale\u001b[0m \u001b[0;34m=\u001b[0m \u001b[0;32mTrue\u001b[0m\u001b[0;34m\u001b[0m\u001b[0m\n\u001b[1;32m    165\u001b[0m \u001b[0;34m\u001b[0m\u001b[0m\n",
      "\u001b[0;32m/usr/local/lib/python3.5/dist-packages/matplotlib/axis.py\u001b[0m in \u001b[0;36mcla\u001b[0;34m(self)\u001b[0m\n\u001b[1;32m    758\u001b[0m         \u001b[0mself\u001b[0m\u001b[0;34m.\u001b[0m\u001b[0m_set_artist_props\u001b[0m\u001b[0;34m(\u001b[0m\u001b[0mself\u001b[0m\u001b[0;34m.\u001b[0m\u001b[0mlabel\u001b[0m\u001b[0;34m)\u001b[0m\u001b[0;34m\u001b[0m\u001b[0m\n\u001b[1;32m    759\u001b[0m \u001b[0;34m\u001b[0m\u001b[0m\n\u001b[0;32m--> 760\u001b[0;31m         \u001b[0mself\u001b[0m\u001b[0;34m.\u001b[0m\u001b[0mreset_ticks\u001b[0m\u001b[0;34m(\u001b[0m\u001b[0;34m)\u001b[0m\u001b[0;34m\u001b[0m\u001b[0m\n\u001b[0m\u001b[1;32m    761\u001b[0m \u001b[0;34m\u001b[0m\u001b[0m\n\u001b[1;32m    762\u001b[0m         \u001b[0mself\u001b[0m\u001b[0;34m.\u001b[0m\u001b[0mconverter\u001b[0m \u001b[0;34m=\u001b[0m \u001b[0;32mNone\u001b[0m\u001b[0;34m\u001b[0m\u001b[0m\n",
      "\u001b[0;32m/usr/local/lib/python3.5/dist-packages/matplotlib/axis.py\u001b[0m in \u001b[0;36mreset_ticks\u001b[0;34m(self)\u001b[0m\n\u001b[1;32m    773\u001b[0m \u001b[0;34m\u001b[0m\u001b[0m\n\u001b[1;32m    774\u001b[0m         \u001b[0mself\u001b[0m\u001b[0;34m.\u001b[0m\u001b[0mmajorTicks\u001b[0m\u001b[0;34m.\u001b[0m\u001b[0mextend\u001b[0m\u001b[0;34m(\u001b[0m\u001b[0;34m[\u001b[0m\u001b[0mself\u001b[0m\u001b[0;34m.\u001b[0m\u001b[0m_get_tick\u001b[0m\u001b[0;34m(\u001b[0m\u001b[0mmajor\u001b[0m\u001b[0;34m=\u001b[0m\u001b[0;32mTrue\u001b[0m\u001b[0;34m)\u001b[0m\u001b[0;34m]\u001b[0m\u001b[0;34m)\u001b[0m\u001b[0;34m\u001b[0m\u001b[0m\n\u001b[0;32m--> 775\u001b[0;31m         \u001b[0mself\u001b[0m\u001b[0;34m.\u001b[0m\u001b[0mminorTicks\u001b[0m\u001b[0;34m.\u001b[0m\u001b[0mextend\u001b[0m\u001b[0;34m(\u001b[0m\u001b[0;34m[\u001b[0m\u001b[0mself\u001b[0m\u001b[0;34m.\u001b[0m\u001b[0m_get_tick\u001b[0m\u001b[0;34m(\u001b[0m\u001b[0mmajor\u001b[0m\u001b[0;34m=\u001b[0m\u001b[0;32mFalse\u001b[0m\u001b[0;34m)\u001b[0m\u001b[0;34m]\u001b[0m\u001b[0;34m)\u001b[0m\u001b[0;34m\u001b[0m\u001b[0m\n\u001b[0m\u001b[1;32m    776\u001b[0m         \u001b[0mself\u001b[0m\u001b[0;34m.\u001b[0m\u001b[0m_lastNumMajorTicks\u001b[0m \u001b[0;34m=\u001b[0m \u001b[0;36m1\u001b[0m\u001b[0;34m\u001b[0m\u001b[0m\n\u001b[1;32m    777\u001b[0m         \u001b[0mself\u001b[0m\u001b[0;34m.\u001b[0m\u001b[0m_lastNumMinorTicks\u001b[0m \u001b[0;34m=\u001b[0m \u001b[0;36m1\u001b[0m\u001b[0;34m\u001b[0m\u001b[0m\n",
      "\u001b[0;32m/usr/local/lib/python3.5/dist-packages/matplotlib/axis.py\u001b[0m in \u001b[0;36m_get_tick\u001b[0;34m(self, major)\u001b[0m\n\u001b[1;32m   1727\u001b[0m         \u001b[0;32melse\u001b[0m\u001b[0;34m:\u001b[0m\u001b[0;34m\u001b[0m\u001b[0m\n\u001b[1;32m   1728\u001b[0m             \u001b[0mtick_kw\u001b[0m \u001b[0;34m=\u001b[0m \u001b[0mself\u001b[0m\u001b[0;34m.\u001b[0m\u001b[0m_minor_tick_kw\u001b[0m\u001b[0;34m\u001b[0m\u001b[0m\n\u001b[0;32m-> 1729\u001b[0;31m         \u001b[0;32mreturn\u001b[0m \u001b[0mXTick\u001b[0m\u001b[0;34m(\u001b[0m\u001b[0mself\u001b[0m\u001b[0;34m.\u001b[0m\u001b[0maxes\u001b[0m\u001b[0;34m,\u001b[0m \u001b[0;36m0\u001b[0m\u001b[0;34m,\u001b[0m \u001b[0;34m''\u001b[0m\u001b[0;34m,\u001b[0m \u001b[0mmajor\u001b[0m\u001b[0;34m=\u001b[0m\u001b[0mmajor\u001b[0m\u001b[0;34m,\u001b[0m \u001b[0;34m**\u001b[0m\u001b[0mtick_kw\u001b[0m\u001b[0;34m)\u001b[0m\u001b[0;34m\u001b[0m\u001b[0m\n\u001b[0m\u001b[1;32m   1730\u001b[0m \u001b[0;34m\u001b[0m\u001b[0m\n\u001b[1;32m   1731\u001b[0m     \u001b[0;32mdef\u001b[0m \u001b[0m_get_label\u001b[0m\u001b[0;34m(\u001b[0m\u001b[0mself\u001b[0m\u001b[0;34m)\u001b[0m\u001b[0;34m:\u001b[0m\u001b[0;34m\u001b[0m\u001b[0m\n",
      "\u001b[0;32m/usr/local/lib/python3.5/dist-packages/matplotlib/axis.py\u001b[0m in \u001b[0;36m__init__\u001b[0;34m(self, axes, loc, label, size, width, color, tickdir, pad, labelsize, labelcolor, zorder, gridOn, tick1On, tick2On, label1On, label2On, major)\u001b[0m\n\u001b[1;32m    152\u001b[0m         \u001b[0mself\u001b[0m\u001b[0;34m.\u001b[0m\u001b[0mgridline\u001b[0m \u001b[0;34m=\u001b[0m \u001b[0mself\u001b[0m\u001b[0;34m.\u001b[0m\u001b[0m_get_gridline\u001b[0m\u001b[0;34m(\u001b[0m\u001b[0;34m)\u001b[0m\u001b[0;34m\u001b[0m\u001b[0m\n\u001b[1;32m    153\u001b[0m \u001b[0;34m\u001b[0m\u001b[0m\n\u001b[0;32m--> 154\u001b[0;31m         \u001b[0mself\u001b[0m\u001b[0;34m.\u001b[0m\u001b[0mlabel1\u001b[0m \u001b[0;34m=\u001b[0m \u001b[0mself\u001b[0m\u001b[0;34m.\u001b[0m\u001b[0m_get_text1\u001b[0m\u001b[0;34m(\u001b[0m\u001b[0;34m)\u001b[0m\u001b[0;34m\u001b[0m\u001b[0m\n\u001b[0m\u001b[1;32m    155\u001b[0m         \u001b[0mself\u001b[0m\u001b[0;34m.\u001b[0m\u001b[0mlabel\u001b[0m \u001b[0;34m=\u001b[0m \u001b[0mself\u001b[0m\u001b[0;34m.\u001b[0m\u001b[0mlabel1\u001b[0m  \u001b[0;31m# legacy name\u001b[0m\u001b[0;34m\u001b[0m\u001b[0m\n\u001b[1;32m    156\u001b[0m         \u001b[0mself\u001b[0m\u001b[0;34m.\u001b[0m\u001b[0mlabel2\u001b[0m \u001b[0;34m=\u001b[0m \u001b[0mself\u001b[0m\u001b[0;34m.\u001b[0m\u001b[0m_get_text2\u001b[0m\u001b[0;34m(\u001b[0m\u001b[0;34m)\u001b[0m\u001b[0;34m\u001b[0m\u001b[0m\n",
      "\u001b[0;32m/usr/local/lib/python3.5/dist-packages/matplotlib/axis.py\u001b[0m in \u001b[0;36m_get_text1\u001b[0;34m(self)\u001b[0m\n\u001b[1;32m    384\u001b[0m         \u001b[0;31m# get the affine as an a,b,c,d,tx,ty list\u001b[0m\u001b[0;34m\u001b[0m\u001b[0;34m\u001b[0m\u001b[0m\n\u001b[1;32m    385\u001b[0m         \u001b[0;31m# x in data coords, y in axes coords\u001b[0m\u001b[0;34m\u001b[0m\u001b[0;34m\u001b[0m\u001b[0m\n\u001b[0;32m--> 386\u001b[0;31m         \u001b[0mtrans\u001b[0m\u001b[0;34m,\u001b[0m \u001b[0mvert\u001b[0m\u001b[0;34m,\u001b[0m \u001b[0mhoriz\u001b[0m \u001b[0;34m=\u001b[0m \u001b[0mself\u001b[0m\u001b[0;34m.\u001b[0m\u001b[0m_get_text1_transform\u001b[0m\u001b[0;34m(\u001b[0m\u001b[0;34m)\u001b[0m\u001b[0;34m\u001b[0m\u001b[0m\n\u001b[0m\u001b[1;32m    387\u001b[0m         t = mtext.Text(\n\u001b[1;32m    388\u001b[0m             \u001b[0mx\u001b[0m\u001b[0;34m=\u001b[0m\u001b[0;36m0\u001b[0m\u001b[0;34m,\u001b[0m \u001b[0my\u001b[0m\u001b[0;34m=\u001b[0m\u001b[0;36m0\u001b[0m\u001b[0;34m,\u001b[0m\u001b[0;34m\u001b[0m\u001b[0m\n",
      "\u001b[0;32m/usr/local/lib/python3.5/dist-packages/matplotlib/axis.py\u001b[0m in \u001b[0;36m_get_text1_transform\u001b[0;34m(self)\u001b[0m\n\u001b[1;32m    360\u001b[0m \u001b[0;34m\u001b[0m\u001b[0m\n\u001b[1;32m    361\u001b[0m     \u001b[0;32mdef\u001b[0m \u001b[0m_get_text1_transform\u001b[0m\u001b[0;34m(\u001b[0m\u001b[0mself\u001b[0m\u001b[0;34m)\u001b[0m\u001b[0;34m:\u001b[0m\u001b[0;34m\u001b[0m\u001b[0m\n\u001b[0;32m--> 362\u001b[0;31m         \u001b[0;32mreturn\u001b[0m \u001b[0mself\u001b[0m\u001b[0;34m.\u001b[0m\u001b[0maxes\u001b[0m\u001b[0;34m.\u001b[0m\u001b[0mget_xaxis_text1_transform\u001b[0m\u001b[0;34m(\u001b[0m\u001b[0mself\u001b[0m\u001b[0;34m.\u001b[0m\u001b[0m_pad\u001b[0m\u001b[0;34m)\u001b[0m\u001b[0;34m\u001b[0m\u001b[0m\n\u001b[0m\u001b[1;32m    363\u001b[0m \u001b[0;34m\u001b[0m\u001b[0m\n\u001b[1;32m    364\u001b[0m     \u001b[0;32mdef\u001b[0m \u001b[0m_get_text2_transform\u001b[0m\u001b[0;34m(\u001b[0m\u001b[0mself\u001b[0m\u001b[0;34m)\u001b[0m\u001b[0;34m:\u001b[0m\u001b[0;34m\u001b[0m\u001b[0m\n",
      "\u001b[0;32m/usr/local/lib/python3.5/dist-packages/matplotlib/axes/_base.py\u001b[0m in \u001b[0;36mget_xaxis_text1_transform\u001b[0;34m(self, pad_points)\u001b[0m\n\u001b[1;32m    734\u001b[0m         return (self.get_xaxis_transform(which='tick1') +\n\u001b[1;32m    735\u001b[0m                 mtransforms.ScaledTranslation(0, -1 * pad_points / 72.0,\n\u001b[0;32m--> 736\u001b[0;31m                                               self.figure.dpi_scale_trans),\n\u001b[0m\u001b[1;32m    737\u001b[0m                 \"top\", \"center\")\n\u001b[1;32m    738\u001b[0m \u001b[0;34m\u001b[0m\u001b[0m\n",
      "\u001b[0;32m/usr/local/lib/python3.5/dist-packages/matplotlib/transforms.py\u001b[0m in \u001b[0;36m__init__\u001b[0;34m(self, xt, yt, scale_trans, **kwargs)\u001b[0m\n\u001b[1;32m   2647\u001b[0m     \"\"\"\n\u001b[1;32m   2648\u001b[0m     \u001b[0;32mdef\u001b[0m \u001b[0m__init__\u001b[0m\u001b[0;34m(\u001b[0m\u001b[0mself\u001b[0m\u001b[0;34m,\u001b[0m \u001b[0mxt\u001b[0m\u001b[0;34m,\u001b[0m \u001b[0myt\u001b[0m\u001b[0;34m,\u001b[0m \u001b[0mscale_trans\u001b[0m\u001b[0;34m,\u001b[0m \u001b[0;34m**\u001b[0m\u001b[0mkwargs\u001b[0m\u001b[0;34m)\u001b[0m\u001b[0;34m:\u001b[0m\u001b[0;34m\u001b[0m\u001b[0m\n\u001b[0;32m-> 2649\u001b[0;31m         \u001b[0mAffine2DBase\u001b[0m\u001b[0;34m.\u001b[0m\u001b[0m__init__\u001b[0m\u001b[0;34m(\u001b[0m\u001b[0mself\u001b[0m\u001b[0;34m,\u001b[0m \u001b[0;34m**\u001b[0m\u001b[0mkwargs\u001b[0m\u001b[0;34m)\u001b[0m\u001b[0;34m\u001b[0m\u001b[0m\n\u001b[0m\u001b[1;32m   2650\u001b[0m         \u001b[0mself\u001b[0m\u001b[0;34m.\u001b[0m\u001b[0m_t\u001b[0m \u001b[0;34m=\u001b[0m \u001b[0;34m(\u001b[0m\u001b[0mxt\u001b[0m\u001b[0;34m,\u001b[0m \u001b[0myt\u001b[0m\u001b[0;34m)\u001b[0m\u001b[0;34m\u001b[0m\u001b[0m\n\u001b[1;32m   2651\u001b[0m         \u001b[0mself\u001b[0m\u001b[0;34m.\u001b[0m\u001b[0m_scale_trans\u001b[0m \u001b[0;34m=\u001b[0m \u001b[0mscale_trans\u001b[0m\u001b[0;34m\u001b[0m\u001b[0m\n",
      "\u001b[0;32m/usr/local/lib/python3.5/dist-packages/matplotlib/transforms.py\u001b[0m in \u001b[0;36m__init__\u001b[0;34m(self, *args, **kwargs)\u001b[0m\n\u001b[1;32m   1661\u001b[0m \u001b[0;34m\u001b[0m\u001b[0m\n\u001b[1;32m   1662\u001b[0m     \u001b[0;32mdef\u001b[0m \u001b[0m__init__\u001b[0m\u001b[0;34m(\u001b[0m\u001b[0mself\u001b[0m\u001b[0;34m,\u001b[0m \u001b[0;34m*\u001b[0m\u001b[0margs\u001b[0m\u001b[0;34m,\u001b[0m \u001b[0;34m**\u001b[0m\u001b[0mkwargs\u001b[0m\u001b[0;34m)\u001b[0m\u001b[0;34m:\u001b[0m\u001b[0;34m\u001b[0m\u001b[0m\n\u001b[0;32m-> 1663\u001b[0;31m         \u001b[0mTransform\u001b[0m\u001b[0;34m.\u001b[0m\u001b[0m__init__\u001b[0m\u001b[0;34m(\u001b[0m\u001b[0mself\u001b[0m\u001b[0;34m,\u001b[0m \u001b[0;34m*\u001b[0m\u001b[0margs\u001b[0m\u001b[0;34m,\u001b[0m \u001b[0;34m**\u001b[0m\u001b[0mkwargs\u001b[0m\u001b[0;34m)\u001b[0m\u001b[0;34m\u001b[0m\u001b[0m\n\u001b[0m\u001b[1;32m   1664\u001b[0m         \u001b[0mself\u001b[0m\u001b[0;34m.\u001b[0m\u001b[0m_inverted\u001b[0m \u001b[0;34m=\u001b[0m \u001b[0;32mNone\u001b[0m\u001b[0;34m\u001b[0m\u001b[0m\n\u001b[1;32m   1665\u001b[0m \u001b[0;34m\u001b[0m\u001b[0m\n",
      "\u001b[0;32m/usr/local/lib/python3.5/dist-packages/matplotlib/transforms.py\u001b[0m in \u001b[0;36m__init__\u001b[0;34m(self, shorthand_name)\u001b[0m\n\u001b[1;32m    102\u001b[0m         \u001b[0;31m# computed for the first time.\u001b[0m\u001b[0;34m\u001b[0m\u001b[0;34m\u001b[0m\u001b[0m\n\u001b[1;32m    103\u001b[0m         \u001b[0mself\u001b[0m\u001b[0;34m.\u001b[0m\u001b[0m_invalid\u001b[0m \u001b[0;34m=\u001b[0m \u001b[0;36m1\u001b[0m\u001b[0;34m\u001b[0m\u001b[0m\n\u001b[0;32m--> 104\u001b[0;31m         \u001b[0mself\u001b[0m\u001b[0;34m.\u001b[0m\u001b[0m_shorthand_name\u001b[0m \u001b[0;34m=\u001b[0m \u001b[0mshorthand_name\u001b[0m \u001b[0;32mor\u001b[0m \u001b[0;34m''\u001b[0m\u001b[0;34m\u001b[0m\u001b[0m\n\u001b[0m\u001b[1;32m    105\u001b[0m \u001b[0;34m\u001b[0m\u001b[0m\n\u001b[1;32m    106\u001b[0m     \u001b[0;32mif\u001b[0m \u001b[0mDEBUG\u001b[0m\u001b[0;34m:\u001b[0m\u001b[0;34m\u001b[0m\u001b[0m\n",
      "\u001b[0;31mKeyboardInterrupt\u001b[0m: "
     ]
    }
   ],
   "source": [
    "iterations = 1000000\n",
    "batch_size = 128\n",
    "for i in range(iterations):\n",
    "    if i%1000 == 0:\n",
    "        samples = sess.run(g_sample, feed_dict= {\n",
    "            z_ : sample_z(16)\n",
    "        })\n",
    "        # save to file\n",
    "        save_samples(samples, i)\n",
    "    \n",
    "    images, _ = mnist.train.next_batch(batch_size)\n",
    "    \n",
    "    _, d_loss_value = sess.run([d_train_op, d_loss], feed_dict={\n",
    "        x_ : images,\n",
    "        z_ : sample_z(batch_size)\n",
    "    })\n",
    "    \n",
    "    _, g_loss_value = sess.run([g_train_op, g_loss], feed_dict={\n",
    "        z_ : sample_z(batch_size)\n",
    "    })\n",
    "    \n",
    "    if i%1000 == 0:\n",
    "        print('at {} iteration, d_loss : [{}], g_loss : [{}]'.\n",
    "             format(i, d_loss_value, g_loss_value))"
   ]
  },
  {
   "cell_type": "markdown",
   "metadata": {},
   "source": [
    "\n",
    "\n",
    "\n",
    "\n",
    "\n",
    "\n",
    "\n",
    "\n",
    "\n",
    "\n",
    "\n",
    "\n",
    "\n",
    "\n",
    "\n",
    "\n"
   ]
  },
  {
   "cell_type": "markdown",
   "metadata": {
    "deletable": true,
    "editable": true
   },
   "source": [
    "\n",
    "\n",
    "\n",
    "\n",
    "\n",
    "\n",
    "\n",
    "\n",
    "\n",
    "\n",
    "\n",
    "\n",
    "\n",
    "\n",
    "\n",
    "\n"
   ]
  },
  {
   "cell_type": "markdown",
   "metadata": {
    "deletable": true,
    "editable": true
   },
   "source": [
    "\n",
    "\n",
    "\n",
    "\n",
    "\n",
    "\n",
    "\n",
    "\n",
    "\n",
    "\n",
    "\n",
    "\n",
    "\n",
    "\n",
    "\n",
    "\n"
   ]
  },
  {
   "cell_type": "markdown",
   "metadata": {
    "deletable": true,
    "editable": true
   },
   "source": [
    "\n",
    "\n",
    "\n",
    "\n",
    "\n",
    "\n",
    "\n",
    "\n",
    "\n",
    "\n",
    "\n",
    "\n",
    "\n",
    "\n",
    "\n",
    "\n"
   ]
  },
  {
   "cell_type": "markdown",
   "metadata": {
    "deletable": true,
    "editable": true
   },
   "source": [
    "\n",
    "\n",
    "\n",
    "\n",
    "\n",
    "\n",
    "\n",
    "\n",
    "\n",
    "\n",
    "\n",
    "\n",
    "\n",
    "\n",
    "\n",
    "\n"
   ]
  },
  {
   "cell_type": "markdown",
   "metadata": {
    "deletable": true,
    "editable": true
   },
   "source": [
    "\n",
    "\n",
    "\n",
    "\n",
    "\n",
    "\n",
    "\n",
    "\n",
    "\n",
    "\n",
    "\n",
    "\n",
    "\n",
    "\n",
    "\n",
    "\n"
   ]
  },
  {
   "cell_type": "markdown",
   "metadata": {
    "deletable": true,
    "editable": true
   },
   "source": [
    "\n",
    "\n",
    "\n",
    "\n",
    "\n",
    "\n",
    "\n",
    "\n",
    "\n",
    "\n",
    "\n",
    "\n",
    "\n",
    "\n",
    "\n",
    "\n"
   ]
  },
  {
   "cell_type": "markdown",
   "metadata": {
    "deletable": true,
    "editable": true
   },
   "source": [
    "\n",
    "\n",
    "\n",
    "\n",
    "\n",
    "\n",
    "\n",
    "\n",
    "\n",
    "\n",
    "\n",
    "\n",
    "\n",
    "\n",
    "\n",
    "\n"
   ]
  },
  {
   "cell_type": "markdown",
   "metadata": {
    "deletable": true,
    "editable": true
   },
   "source": [
    "\n",
    "\n",
    "\n",
    "\n",
    "\n",
    "\n",
    "\n",
    "\n",
    "\n",
    "\n",
    "\n",
    "\n",
    "\n",
    "\n",
    "\n",
    "\n"
   ]
  },
  {
   "cell_type": "markdown",
   "metadata": {
    "deletable": true,
    "editable": true
   },
   "source": [
    "\n",
    "\n",
    "\n",
    "\n",
    "\n",
    "\n",
    "\n",
    "\n",
    "\n",
    "\n",
    "\n",
    "\n",
    "\n",
    "\n",
    "\n",
    "\n"
   ]
  },
  {
   "cell_type": "markdown",
   "metadata": {
    "deletable": true,
    "editable": true
   },
   "source": [
    "\n",
    "\n",
    "\n",
    "\n",
    "\n",
    "\n",
    "\n",
    "\n",
    "\n",
    "\n",
    "\n",
    "\n",
    "\n",
    "\n",
    "\n",
    "\n"
   ]
  },
  {
   "cell_type": "markdown",
   "metadata": {
    "deletable": true,
    "editable": true
   },
   "source": [
    "\n",
    "\n",
    "\n",
    "\n",
    "\n",
    "\n",
    "\n",
    "\n",
    "\n",
    "\n",
    "\n",
    "\n",
    "\n",
    "\n",
    "\n",
    "\n"
   ]
  },
  {
   "cell_type": "markdown",
   "metadata": {
    "deletable": true,
    "editable": true
   },
   "source": [
    "\n",
    "\n",
    "\n",
    "\n",
    "\n",
    "\n",
    "\n",
    "\n",
    "\n",
    "\n",
    "\n",
    "\n",
    "\n",
    "\n",
    "\n",
    "\n"
   ]
  },
  {
   "cell_type": "markdown",
   "metadata": {
    "deletable": true,
    "editable": true
   },
   "source": [
    "\n",
    "\n",
    "\n",
    "\n",
    "\n",
    "\n",
    "\n",
    "\n",
    "\n",
    "\n",
    "\n",
    "\n",
    "\n",
    "\n",
    "\n",
    "\n"
   ]
  },
  {
   "cell_type": "markdown",
   "metadata": {
    "deletable": true,
    "editable": true
   },
   "source": [
    "\n",
    "\n",
    "\n",
    "\n",
    "\n",
    "\n",
    "\n",
    "\n",
    "\n",
    "\n",
    "\n",
    "\n",
    "\n",
    "\n",
    "\n",
    "\n"
   ]
  },
  {
   "cell_type": "markdown",
   "metadata": {
    "deletable": true,
    "editable": true
   },
   "source": [
    "\n",
    "\n",
    "\n",
    "\n",
    "\n",
    "\n",
    "\n",
    "\n",
    "\n",
    "\n",
    "\n",
    "\n",
    "\n",
    "\n",
    "\n",
    "\n"
   ]
  },
  {
   "cell_type": "markdown",
   "metadata": {
    "deletable": true,
    "editable": true
   },
   "source": [
    "\n",
    "\n",
    "\n",
    "\n",
    "\n",
    "\n",
    "\n",
    "\n",
    "\n",
    "\n",
    "\n",
    "\n",
    "\n",
    "\n",
    "\n",
    "\n"
   ]
  },
  {
   "cell_type": "markdown",
   "metadata": {
    "deletable": true,
    "editable": true
   },
   "source": [
    "\n",
    "\n",
    "\n",
    "\n",
    "\n",
    "\n",
    "\n",
    "\n",
    "\n",
    "\n",
    "\n",
    "\n",
    "\n",
    "\n",
    "\n",
    "\n"
   ]
  },
  {
   "cell_type": "markdown",
   "metadata": {
    "deletable": true,
    "editable": true
   },
   "source": [
    "\n",
    "\n",
    "\n",
    "\n",
    "\n",
    "\n",
    "\n",
    "\n",
    "\n",
    "\n",
    "\n",
    "\n",
    "\n",
    "\n",
    "\n",
    "\n"
   ]
  },
  {
   "cell_type": "markdown",
   "metadata": {
    "deletable": true,
    "editable": true
   },
   "source": [
    "\n",
    "\n",
    "\n",
    "\n",
    "\n",
    "\n",
    "\n",
    "\n",
    "\n",
    "\n",
    "\n",
    "\n",
    "\n",
    "\n",
    "\n",
    "\n"
   ]
  },
  {
   "cell_type": "markdown",
   "metadata": {
    "deletable": true,
    "editable": true
   },
   "source": [
    "\n",
    "\n",
    "\n",
    "\n",
    "\n",
    "\n",
    "\n",
    "\n",
    "\n",
    "\n",
    "\n",
    "\n",
    "\n",
    "\n",
    "\n",
    "\n"
   ]
  }
 ],
 "metadata": {
  "kernelspec": {
   "display_name": "Python 3",
   "language": "python",
   "name": "python3"
  },
  "language_info": {
   "codemirror_mode": {
    "name": "ipython",
    "version": 3
   },
   "file_extension": ".py",
   "mimetype": "text/x-python",
   "name": "python",
   "nbconvert_exporter": "python",
   "pygments_lexer": "ipython3",
   "version": "3.5.2"
  }
 },
 "nbformat": 4,
 "nbformat_minor": 2
}
